{
 "cells": [
  {
   "cell_type": "code",
   "execution_count": 2,
   "metadata": {},
   "outputs": [],
   "source": [
    "import datasets"
   ]
  },
  {
   "cell_type": "code",
   "execution_count": 3,
   "metadata": {},
   "outputs": [
    {
     "name": "stderr",
     "output_type": "stream",
     "text": [
      "C:\\Users\\dudua\\anaconda3\\lib\\site-packages\\datasets\\table.py:1421: FutureWarning: promote has been superseded by mode='default'.\n",
      "  table = cls._concat_blocks(blocks, axis=0)\n"
     ]
    }
   ],
   "source": [
    "#carrega natural questions\n",
    "\n",
    "from datasets import load_dataset\n",
    "dataset = load_dataset('json', data_files=\"simplified-nq-train.jsonl\")"
   ]
  },
  {
   "cell_type": "code",
   "execution_count": 11,
   "metadata": {
    "scrolled": true
   },
   "outputs": [
    {
     "name": "stderr",
     "output_type": "stream",
     "text": [
      "C:\\Users\\dudua\\anaconda3\\lib\\site-packages\\transformers\\models\\marian\\tokenization_marian.py:197: UserWarning: Recommended: pip install sacremoses.\n",
      "  warnings.warn(\"Recommended: pip install sacremoses.\")\n"
     ]
    },
    {
     "name": "stdout",
     "output_type": "stream",
     "text": [
      "[{'translation_text': 'O Tom tentou esfaquear-me.'}]\n"
     ]
    }
   ],
   "source": [
    "#carrega modelo de tradução\n",
    "\n",
    "from transformers import pipeline\n",
    "pipe = pipeline(\"translation\", model=\"Helsinki-NLP/opus-mt-tc-big-en-pt\")\n"
   ]
  },
  {
   "cell_type": "code",
   "execution_count": 59,
   "metadata": {},
   "outputs": [],
   "source": [
    "df = pd.DataFrame(columns = ['title', 'context','question', 'answer'])"
   ]
  },
  {
   "cell_type": "code",
   "execution_count": 129,
   "metadata": {},
   "outputs": [],
   "source": [
    "sample = dataset['train'][0]"
   ]
  },
  {
   "cell_type": "code",
   "execution_count": 130,
   "metadata": {},
   "outputs": [],
   "source": [
    "titulo = sample['document_text']"
   ]
  },
  {
   "cell_type": "code",
   "execution_count": 131,
   "metadata": {},
   "outputs": [
    {
     "data": {
      "text/plain": [
       "' Email marketing '"
      ]
     },
     "execution_count": 131,
     "metadata": {},
     "output_type": "execute_result"
    }
   ],
   "source": [
    "re.findall(r'(?<=<h1>)(.+?)(?=</h1>)', titulo, re.IGNORECASE)[0]"
   ]
  },
  {
   "cell_type": "code",
   "execution_count": 132,
   "metadata": {},
   "outputs": [
    {
     "data": {
      "text/plain": [
       "[{'yes_no_answer': 'NONE',\n",
       "  'long_answer': {'start_token': 1952,\n",
       "   'candidate_index': 54,\n",
       "   'end_token': 2019},\n",
       "  'short_answers': [{'start_token': 1960, 'end_token': 1969}],\n",
       "  'annotation_id': 5.931654502200276e+17}]"
      ]
     },
     "execution_count": 132,
     "metadata": {},
     "output_type": "execute_result"
    }
   ],
   "source": [
    "sample['annotations']"
   ]
  },
  {
   "cell_type": "code",
   "execution_count": 133,
   "metadata": {},
   "outputs": [],
   "source": [
    "doc = sample['document_text']"
   ]
  },
  {
   "cell_type": "code",
   "execution_count": 134,
   "metadata": {},
   "outputs": [
    {
     "data": {
      "text/plain": [
       "{'start_token': 1952, 'candidate_index': 54, 'end_token': 2019}"
      ]
     },
     "execution_count": 134,
     "metadata": {},
     "output_type": "execute_result"
    }
   ],
   "source": [
    "sample['annotations'][0]['long_answer']"
   ]
  },
  {
   "cell_type": "code",
   "execution_count": 135,
   "metadata": {},
   "outputs": [],
   "source": [
    "init = sample['annotations'][0]['short_answers'][0]['start_token']\n",
    "end = sample['annotations'][0]['short_answers'][0]['end_token']"
   ]
  },
  {
   "cell_type": "code",
   "execution_count": 136,
   "metadata": {},
   "outputs": [
    {
     "data": {
      "text/plain": [
       "\"a newsletter sent to an advertising firm 's customers\""
      ]
     },
     "execution_count": 136,
     "metadata": {},
     "output_type": "execute_result"
    }
   ],
   "source": [
    "\" \".join(doc.split(\" \")[init:end])"
   ]
  },
  {
   "cell_type": "code",
   "execution_count": 29,
   "metadata": {},
   "outputs": [
    {
     "data": {
      "text/plain": [
       "'what happened to the lost settlement of roanoke'"
      ]
     },
     "execution_count": 29,
     "metadata": {},
     "output_type": "execute_result"
    }
   ],
   "source": [
    "#sample['question_text']"
   ]
  },
  {
   "cell_type": "code",
   "execution_count": 39,
   "metadata": {},
   "outputs": [],
   "source": [
    "import pandas as pd\n",
    "import re\n",
    "import sys\n",
    "import time"
   ]
  },
  {
   "cell_type": "code",
   "execution_count": 40,
   "metadata": {},
   "outputs": [],
   "source": []
  },
  {
   "cell_type": "code",
   "execution_count": 127,
   "metadata": {},
   "outputs": [],
   "source": [
    "def translate(size=10, dataset=dataset):\n",
    "    df = pd.DataFrame(columns = ['title', 'question', 'long_answer', 'short_answer'])\n",
    "    small_set = dataset['train']\n",
    "    for i in range(size):\n",
    "\n",
    "        doc = re.sub(r'''<(?:\"[^\"]*\"['\"]*|'[^']*'['\"]*|[^'\">])+>''','',small_set[i]['document_text'])\n",
    "        init_long = small_set[i]['annotations'][0]['long_answer']['start_token']\n",
    "        end_long = small_set[i]['annotations'][0]['long_answer']['end_token']\n",
    "        if len(small_set[i]['annotations'][0]['short_answers']) != 0:\n",
    "            init_short = small_set[i]['annotations'][0]['short_answers'][0]['start_token']\n",
    "            end_short = small_set[i]['annotations'][0]['short_answers'][0]['end_token']\n",
    "        else:\n",
    "            init_short = 0\n",
    "            end_short  = 0\n",
    "        question = small_set[i]['question_text']\n",
    "        long_answer = \" \".join(doc.split(\" \")[init_long:end_long])\n",
    "        short_answer = \" \".join(doc.split(\" \")[init_short:end_short])\n",
    "        title = re.findall(r'(?<=<h1>)(.+?)(?=</h1>)', small_set[i]['document_text'], re.IGNORECASE)[0]\n",
    "        if len(long_answer) > 0:  \n",
    "            title = pipe('>>por<< ' + title)[0]['translation_text']\n",
    "            long_answer= pipe('>>por<< ' + long_answer)[0]['translation_text']\n",
    "            if len(short_answer) != 0:\n",
    "                short_answer= pipe('>>por<< ' + short_answer)[0]['translation_text']\n",
    "            question= pipe('>>por<< ' + question)[0]['translation_text']\n",
    "\n",
    "            \n",
    "            \n",
    "        else:\n",
    "            pass\n",
    "            \n",
    "        new_row = {'title': [title], 'question': [question], 'long_answer': [long_answer], 'short_answer': [short_answer]}\n",
    "        df_aux = pd.DataFrame(new_row)\n",
    "        df = pd.concat([df, df_aux])\n",
    "\n",
    "        #configuração do terminal\n",
    "        sys.stdout.write(f'\\rProgress : {((i+1)/size)*100}%')\n",
    "        sys.stdout.flush()\n",
    "        \n",
    "    df = df.loc[df['long_answer'] != '']\n",
    "    df.reset_index(drop=True, inplace=True)\n",
    "    return df\n",
    "    \n",
    "\n",
    "\n"
   ]
  },
  {
   "cell_type": "code",
   "execution_count": 139,
   "metadata": {},
   "outputs": [
    {
     "name": "stdout",
     "output_type": "stream",
     "text": [
      "Progress : 100.0%00000000001%Wall time: 1min 51s\n"
     ]
    }
   ],
   "source": [
    "%%time\n",
    "traduzido = translate(size=20)"
   ]
  },
  {
   "cell_type": "code",
   "execution_count": 154,
   "metadata": {},
   "outputs": [],
   "source": [
    "squad = {\n",
    "    \"version\": \"0.1\",\n",
    "    \"data\": [\n",
    "        \n",
    "    ],\n",
    "}"
   ]
  },
  {
   "cell_type": "code",
   "execution_count": 159,
   "metadata": {},
   "outputs": [],
   "source": [
    "import json\n",
    "for passage in json.loads(traduzido.to_json(orient='records')):\n",
    "    estrutura = {\n",
    "        \"title\": passage['title'],\n",
    "        \"paragraphs\": [\n",
    "            {\n",
    "            \"context\": passage['long_answer'],\n",
    "            \"qas\": [\n",
    "                {\n",
    "                    \"id\":0,\n",
    "                    \"question\": passage['question'],\n",
    "                    \"answers\": [\n",
    "                        {\n",
    "                        'text':passage['short_answer'],\n",
    "                        }\n",
    "                        \n",
    "                    ],\n",
    "                },\n",
    "            ],\n",
    "            },\n",
    "        ],\n",
    "    }\n",
    "    squad['data'].append(estrutura)\n",
    "    "
   ]
  },
  {
   "cell_type": "code",
   "execution_count": 163,
   "metadata": {},
   "outputs": [
    {
     "name": "stdout",
     "output_type": "stream",
     "text": [
      "Variable saved as JSON\n"
     ]
    }
   ],
   "source": [
    "json_data =squad\n",
    "file_path = \"data.json\"\n",
    "with open(file_path, \"w\") as json_file:\n",
    "    json.dump(json_data, json_file, indent=4)\n",
    "\n",
    "print(f\"Variable saved as JSON\")"
   ]
  },
  {
   "cell_type": "code",
   "execution_count": null,
   "metadata": {},
   "outputs": [],
   "source": []
  },
  {
   "cell_type": "code",
   "execution_count": null,
   "metadata": {},
   "outputs": [],
   "source": []
  }
 ],
 "metadata": {
  "kernelspec": {
   "display_name": "venv",
   "language": "python",
   "name": "venv"
  },
  "language_info": {
   "codemirror_mode": {
    "name": "ipython",
    "version": 3
   },
   "file_extension": ".py",
   "mimetype": "text/x-python",
   "name": "python",
   "nbconvert_exporter": "python",
   "pygments_lexer": "ipython3",
   "version": "3.9.13"
  }
 },
 "nbformat": 4,
 "nbformat_minor": 4
}
