{
 "cells": [
  {
   "cell_type": "code",
   "execution_count": 4,
   "metadata": {},
   "outputs": [],
   "source": [
    "import datasets"
   ]
  },
  {
   "cell_type": "code",
   "execution_count": 5,
   "metadata": {},
   "outputs": [],
   "source": [
    "from datasets import load_dataset\n",
    "dataset = load_dataset('json', data_files=\"simplified-nq-train.jsonl\")"
   ]
  },
  {
   "cell_type": "code",
   "execution_count": 58,
   "metadata": {},
   "outputs": [],
   "source": [
    "sample = dataset['train'][4]"
   ]
  },
  {
   "cell_type": "code",
   "execution_count": 59,
   "metadata": {},
   "outputs": [
    {
     "data": {
      "text/plain": [
       "[{'yes_no_answer': 'NONE',\n",
       "  'long_answer': {'start_token': -1, 'candidate_index': -1, 'end_token': -1},\n",
       "  'short_answers': [],\n",
       "  'annotation_id': 1.1038549994888626e+19}]"
      ]
     },
     "execution_count": 59,
     "metadata": {},
     "output_type": "execute_result"
    }
   ],
   "source": [
    "sample['annotations']"
   ]
  },
  {
   "cell_type": "code",
   "execution_count": 60,
   "metadata": {},
   "outputs": [],
   "source": [
    "doc = sample['document_text']"
   ]
  },
  {
   "cell_type": "code",
   "execution_count": 61,
   "metadata": {},
   "outputs": [
    {
     "data": {
      "text/plain": [
       "{'start_token': -1, 'candidate_index': -1, 'end_token': -1}"
      ]
     },
     "execution_count": 61,
     "metadata": {},
     "output_type": "execute_result"
    }
   ],
   "source": [
    "sample['annotations'][0]['long_answer']"
   ]
  },
  {
   "cell_type": "code",
   "execution_count": 62,
   "metadata": {},
   "outputs": [],
   "source": [
    "init = sample['annotations'][0]['long_answer']['start_token']\n",
    "end = sample['annotations'][0]['long_answer']['end_token']"
   ]
  },
  {
   "cell_type": "code",
   "execution_count": 63,
   "metadata": {},
   "outputs": [
    {
     "data": {
      "text/plain": [
       "''"
      ]
     },
     "execution_count": 63,
     "metadata": {},
     "output_type": "execute_result"
    }
   ],
   "source": [
    "\" \".join(doc.split(\" \")[init:end])"
   ]
  },
  {
   "cell_type": "code",
   "execution_count": 64,
   "metadata": {},
   "outputs": [
    {
     "data": {
      "text/plain": [
       "'what happened to the lost settlement of roanoke'"
      ]
     },
     "execution_count": 64,
     "metadata": {},
     "output_type": "execute_result"
    }
   ],
   "source": [
    "sample['question_text']"
   ]
  },
  {
   "cell_type": "code",
   "execution_count": 65,
   "metadata": {},
   "outputs": [
    {
     "name": "stderr",
     "output_type": "stream",
     "text": [
      "C:\\Users\\dudua\\anaconda3\\lib\\site-packages\\transformers\\models\\marian\\tokenization_marian.py:197: UserWarning: Recommended: pip install sacremoses.\n",
      "  warnings.warn(\"Recommended: pip install sacremoses.\")\n"
     ]
    },
    {
     "name": "stdout",
     "output_type": "stream",
     "text": [
      "[{'translation_text': 'O Tom tentou esfaquear-me.'}]\n"
     ]
    }
   ],
   "source": [
    "from transformers import pipeline\n",
    "pipe = pipeline(\"translation\", model=\"Helsinki-NLP/opus-mt-tc-big-en-pt\")\n",
    "print(pipe(\">>por<< Tom tried to stab me.\"))"
   ]
  },
  {
   "cell_type": "code",
   "execution_count": 66,
   "metadata": {},
   "outputs": [],
   "source": [
    "small_set = dataset['train']"
   ]
  },
  {
   "cell_type": "code",
   "execution_count": 105,
   "metadata": {},
   "outputs": [],
   "source": [
    "import pandas as pd\n",
    "import re\n",
    "import sys\n",
    "import time"
   ]
  },
  {
   "cell_type": "code",
   "execution_count": 123,
   "metadata": {},
   "outputs": [],
   "source": [
    "df = pd.DataFrame(columns = ['title', 'pergunta', 'answer'])"
   ]
  },
  {
   "cell_type": "code",
   "execution_count": 124,
   "metadata": {},
   "outputs": [
    {
     "name": "stdout",
     "output_type": "stream",
     "text": [
      "Progress : 9%"
     ]
    }
   ],
   "source": [
    "for i in range(10):\n",
    "    sys.stdout.write(f'\\rProgress : {i}%')\n",
    "    sys.stdout.flush()\n",
    "    doc = re.sub(r'''<(?:\"[^\"]*\"['\"]*|'[^']*'['\"]*|[^'\">])+>''','',small_set[i]['document_text'])\n",
    "    init = small_set[i]['annotations'][0]['long_answer']['start_token']\n",
    "    end = small_set[i]['annotations'][0]['long_answer']['end_token']\n",
    "    question = small_set[i]['question_text']\n",
    "    answer = \" \".join(doc.split(\" \")[init:end])\n",
    "    if len(answer) > 0:  \n",
    "        answer= pipe('>>por<< ' + answer)[0]['translation_text']\n",
    "        question= pipe('>>por<< ' + question)[0]['translation_text']\n",
    "        #doc= pipe('>>por<< ' + doc)[0]['translation_text']\n",
    "    else:\n",
    "        pass\n",
    "    new_row = {'title': [doc], 'pergunta': [question], 'answer': [answer]}\n",
    "    df_aux = pd.DataFrame(new_row)\n",
    "    df = pd.concat([df, df_aux])\n",
    "    \n",
    "\n",
    "\n"
   ]
  },
  {
   "cell_type": "code",
   "execution_count": 125,
   "metadata": {},
   "outputs": [],
   "source": [
    "df = df.loc[df['answer'] != '']"
   ]
  },
  {
   "cell_type": "code",
   "execution_count": 126,
   "metadata": {},
   "outputs": [],
   "source": [
    "df.reset_index(drop=True, inplace=True)"
   ]
  },
  {
   "cell_type": "code",
   "execution_count": 127,
   "metadata": {},
   "outputs": [
    {
     "data": {
      "text/html": [
       "<div>\n",
       "<style scoped>\n",
       "    .dataframe tbody tr th:only-of-type {\n",
       "        vertical-align: middle;\n",
       "    }\n",
       "\n",
       "    .dataframe tbody tr th {\n",
       "        vertical-align: top;\n",
       "    }\n",
       "\n",
       "    .dataframe thead th {\n",
       "        text-align: right;\n",
       "    }\n",
       "</style>\n",
       "<table border=\"1\" class=\"dataframe\">\n",
       "  <thead>\n",
       "    <tr style=\"text-align: right;\">\n",
       "      <th></th>\n",
       "      <th>title</th>\n",
       "      <th>pergunta</th>\n",
       "      <th>answer</th>\n",
       "    </tr>\n",
       "  </thead>\n",
       "  <tbody>\n",
       "    <tr>\n",
       "      <th>0</th>\n",
       "      <td>Email marketing - Wikipedia  Email marketing  ...</td>\n",
       "      <td>que é o uso mais comum de marketing por e-mail...</td>\n",
       "      <td>Um exemplo comum de marketing de permissão é u...</td>\n",
       "    </tr>\n",
       "    <tr>\n",
       "      <th>1</th>\n",
       "      <td>The Mother ( How I Met Your Mother ) - wikiped...</td>\n",
       "      <td>como i.met sua mãe que é a mãe</td>\n",
       "      <td>Tracy McConnell , mais conhecido como  The Mot...</td>\n",
       "    </tr>\n",
       "    <tr>\n",
       "      <th>2</th>\n",
       "      <td>Human fertilization - wikipedia  Human fertili...</td>\n",
       "      <td>Que tipo de fertilização ocorre em humanos</td>\n",
       "      <td>O processo de fertilização envolve uma fusão d...</td>\n",
       "    </tr>\n",
       "    <tr>\n",
       "      <th>3</th>\n",
       "      <td>List of National Football League career quarte...</td>\n",
       "      <td>quem teve mais vitórias na nfl</td>\n",
       "      <td>O quarterback ativo Tom Brady detém os recorde...</td>\n",
       "    </tr>\n",
       "    <tr>\n",
       "      <th>4</th>\n",
       "      <td>Pom Klementieff - wikipedia  Pom Klementieff  ...</td>\n",
       "      <td>quem jogou mantis guardiões da galáxia 2</td>\n",
       "      <td>Pom Klementieff (nascido em 3 de maio de 1986 ...</td>\n",
       "    </tr>\n",
       "    <tr>\n",
       "      <th>5</th>\n",
       "      <td>History of the Acadians - wikipedia  History o...</td>\n",
       "      <td>que tribo indígena os acadianos formaram amiza...</td>\n",
       "      <td>A sobrevivência dos assentamentos acadianos ba...</td>\n",
       "    </tr>\n",
       "  </tbody>\n",
       "</table>\n",
       "</div>"
      ],
      "text/plain": [
       "                                               title  \\\n",
       "0  Email marketing - Wikipedia  Email marketing  ...   \n",
       "1  The Mother ( How I Met Your Mother ) - wikiped...   \n",
       "2  Human fertilization - wikipedia  Human fertili...   \n",
       "3  List of National Football League career quarte...   \n",
       "4  Pom Klementieff - wikipedia  Pom Klementieff  ...   \n",
       "5  History of the Acadians - wikipedia  History o...   \n",
       "\n",
       "                                            pergunta  \\\n",
       "0  que é o uso mais comum de marketing por e-mail...   \n",
       "1                     como i.met sua mãe que é a mãe   \n",
       "2         Que tipo de fertilização ocorre em humanos   \n",
       "3                     quem teve mais vitórias na nfl   \n",
       "4           quem jogou mantis guardiões da galáxia 2   \n",
       "5  que tribo indígena os acadianos formaram amiza...   \n",
       "\n",
       "                                              answer  \n",
       "0  Um exemplo comum de marketing de permissão é u...  \n",
       "1  Tracy McConnell , mais conhecido como  The Mot...  \n",
       "2  O processo de fertilização envolve uma fusão d...  \n",
       "3  O quarterback ativo Tom Brady detém os recorde...  \n",
       "4  Pom Klementieff (nascido em 3 de maio de 1986 ...  \n",
       "5  A sobrevivência dos assentamentos acadianos ba...  "
      ]
     },
     "execution_count": 127,
     "metadata": {},
     "output_type": "execute_result"
    }
   ],
   "source": [
    "df"
   ]
  },
  {
   "cell_type": "code",
   "execution_count": 68,
   "metadata": {},
   "outputs": [
    {
     "data": {
      "text/plain": [
       "''"
      ]
     },
     "execution_count": 68,
     "metadata": {},
     "output_type": "execute_result"
    }
   ],
   "source": [
    "answer"
   ]
  },
  {
   "cell_type": "code",
   "execution_count": 48,
   "metadata": {},
   "outputs": [
    {
     "data": {
      "text/plain": [
       "'which is the most common use of opt-in e-mail marketing'"
      ]
     },
     "execution_count": 48,
     "metadata": {},
     "output_type": "execute_result"
    }
   ],
   "source": [
    "small_set[i]['question_text']"
   ]
  },
  {
   "cell_type": "code",
   "execution_count": 110,
   "metadata": {},
   "outputs": [
    {
     "name": "stdout",
     "output_type": "stream",
     "text": [
      "Progress : 90%"
     ]
    }
   ],
   "source": [
    "for i in range(10):\n",
    "    sys.stdout.write(f'\\rProgress : {i*10}%')\n",
    "    sys.stdout.flush()\n",
    "    time.sleep(1)"
   ]
  },
  {
   "cell_type": "code",
   "execution_count": null,
   "metadata": {},
   "outputs": [],
   "source": []
  }
 ],
 "metadata": {
  "kernelspec": {
   "display_name": "venv",
   "language": "python",
   "name": "venv"
  },
  "language_info": {
   "codemirror_mode": {
    "name": "ipython",
    "version": 3
   },
   "file_extension": ".py",
   "mimetype": "text/x-python",
   "name": "python",
   "nbconvert_exporter": "python",
   "pygments_lexer": "ipython3",
   "version": "3.9.13"
  }
 },
 "nbformat": 4,
 "nbformat_minor": 4
}
