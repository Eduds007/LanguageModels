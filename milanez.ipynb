{
 "cells": [
  {
   "cell_type": "code",
   "execution_count": 1,
   "metadata": {},
   "outputs": [],
   "source": [
    "import datasets"
   ]
  },
  {
   "cell_type": "code",
   "execution_count": 2,
   "metadata": {},
   "outputs": [],
   "source": [
    "from datasets import load_dataset\n",
    "dataset = load_dataset('json', data_files=\"simplified-nq-train.jsonl\")"
   ]
  },
  {
   "cell_type": "code",
   "execution_count": 4,
   "metadata": {},
   "outputs": [],
   "source": [
    "sample = dataset['train'][1]"
   ]
  },
  {
   "cell_type": "code",
   "execution_count": 6,
   "metadata": {},
   "outputs": [],
   "source": [
    "doc = sample['document_text']"
   ]
  },
  {
   "cell_type": "code",
   "execution_count": 7,
   "metadata": {},
   "outputs": [
    {
     "data": {
      "text/plain": [
       "{'start_token': 212, 'candidate_index': 15, 'end_token': 310}"
      ]
     },
     "execution_count": 7,
     "metadata": {},
     "output_type": "execute_result"
    }
   ],
   "source": [
    "sample['annotations'][0]['long_answer']"
   ]
  },
  {
   "cell_type": "code",
   "execution_count": 8,
   "metadata": {},
   "outputs": [],
   "source": [
    "init = sample['annotations'][0]['long_answer']['start_token']\n",
    "end = sample['annotations'][0]['long_answer']['end_token']"
   ]
  },
  {
   "cell_type": "code",
   "execution_count": 10,
   "metadata": {},
   "outputs": [
    {
     "data": {
      "text/plain": [
       "\"<P> Tracy McConnell , better known as `` The Mother '' , is the title character from the CBS television sitcom How I Met Your Mother . The show , narrated by Future Ted , tells the story of how Ted Mosby met The Mother . Tracy McConnell appears in 8 episodes from `` Lucky Penny '' to `` The Time Travelers '' as an unseen character ; she was first seen fully in `` Something New '' and was promoted to a main character in season 9 . The Mother is played by Cristin Milioti . </P>\""
      ]
     },
     "execution_count": 10,
     "metadata": {},
     "output_type": "execute_result"
    }
   ],
   "source": [
    "\" \".join(doc.split(\" \")[init:end])"
   ]
  },
  {
   "cell_type": "code",
   "execution_count": 11,
   "metadata": {},
   "outputs": [
    {
     "data": {
      "text/plain": [
       "'how i.met your mother who is the mother'"
      ]
     },
     "execution_count": 11,
     "metadata": {},
     "output_type": "execute_result"
    }
   ],
   "source": [
    "sample['question_text']"
   ]
  },
  {
   "cell_type": "code",
   "execution_count": 12,
   "metadata": {},
   "outputs": [
    {
     "data": {
      "application/vnd.jupyter.widget-view+json": {
       "model_id": "216a5bcbccda42a685481f70f4eb73cc",
       "version_major": 2,
       "version_minor": 0
      },
      "text/plain": [
       "Downloading source.spm:   0%|          | 0.00/803k [00:00<?, ?B/s]"
      ]
     },
     "metadata": {},
     "output_type": "display_data"
    },
    {
     "name": "stderr",
     "output_type": "stream",
     "text": [
      "C:\\Users\\dudua\\Desktop\\Home\\IC\\MyCodes\\.env\\lib\\site-packages\\huggingface_hub\\file_download.py:137: UserWarning: `huggingface_hub` cache-system uses symlinks by default to efficiently store duplicated files but your machine does not support them in C:\\Users\\dudua\\.cache\\huggingface\\hub. Caching files will still work but in a degraded version that might require more space on your disk. This warning can be disabled by setting the `HF_HUB_DISABLE_SYMLINKS_WARNING` environment variable. For more details, see https://huggingface.co/docs/huggingface_hub/how-to-cache#limitations.\n",
      "To support symlinks on Windows, you either need to activate Developer Mode or to run Python as an administrator. In order to see activate developer mode, see this article: https://docs.microsoft.com/en-us/windows/apps/get-started/enable-your-device-for-development\n",
      "  warnings.warn(message)\n"
     ]
    },
    {
     "data": {
      "application/vnd.jupyter.widget-view+json": {
       "model_id": "baeda23d2e204d10b1ba25dcde212579",
       "version_major": 2,
       "version_minor": 0
      },
      "text/plain": [
       "Downloading target.spm:   0%|          | 0.00/825k [00:00<?, ?B/s]"
      ]
     },
     "metadata": {},
     "output_type": "display_data"
    },
    {
     "data": {
      "application/vnd.jupyter.widget-view+json": {
       "model_id": "b5a5851f012e4301979b687055b81ac9",
       "version_major": 2,
       "version_minor": 0
      },
      "text/plain": [
       "Downloading (…)olve/main/vocab.json:   0%|          | 0.00/1.38M [00:00<?, ?B/s]"
      ]
     },
     "metadata": {},
     "output_type": "display_data"
    },
    {
     "data": {
      "application/vnd.jupyter.widget-view+json": {
       "model_id": "e574c48f714745ee9cde1bc68b04c72d",
       "version_major": 2,
       "version_minor": 0
      },
      "text/plain": [
       "Downloading (…)cial_tokens_map.json:   0%|          | 0.00/65.0 [00:00<?, ?B/s]"
      ]
     },
     "metadata": {},
     "output_type": "display_data"
    },
    {
     "name": "stderr",
     "output_type": "stream",
     "text": [
      "C:\\Users\\dudua\\Desktop\\Home\\IC\\MyCodes\\.env\\lib\\site-packages\\transformers\\models\\marian\\tokenization_marian.py:197: UserWarning: Recommended: pip install sacremoses.\n",
      "  warnings.warn(\"Recommended: pip install sacremoses.\")\n"
     ]
    },
    {
     "name": "stdout",
     "output_type": "stream",
     "text": [
      "[{'translation_text': 'O Tom tentou esfaquear-me.'}]\n"
     ]
    }
   ],
   "source": [
    "from transformers import pipeline\n",
    "pipe = pipeline(\"translation\", model=\"Helsinki-NLP/opus-mt-tc-big-en-pt\")\n",
    "print(pipe(\">>por<< Tom tried to stab me.\"))"
   ]
  },
  {
   "cell_type": "code",
   "execution_count": 32,
   "metadata": {},
   "outputs": [],
   "source": [
    "small_set = dataset['train']"
   ]
  },
  {
   "cell_type": "code",
   "execution_count": 69,
   "metadata": {},
   "outputs": [],
   "source": [
    "import pandas as pd"
   ]
  },
  {
   "cell_type": "code",
   "execution_count": 75,
   "metadata": {},
   "outputs": [],
   "source": [
    "df = pd.DataFrame(columns = ['title', 'pergunta', 'answer'])"
   ]
  },
  {
   "cell_type": "code",
   "execution_count": 76,
   "metadata": {},
   "outputs": [],
   "source": [
    "for i in range(10):\n",
    "    doc = small_set[i]['document_text']\n",
    "    init = small_set[i]['annotations'][0]['long_answer']['start_token']\n",
    "    end = small_set[i]['annotations'][0]['long_answer']['end_token']\n",
    "    question = small_set[i]['question_text']\n",
    "    answer = \" \".join(doc.split(\" \")[init:end])\n",
    "    answer= pipe('>>por<< ' + answer)\n",
    "    new_row = {'title': [doc], 'pergunta': [question], 'answer': [answer]}\n",
    "    df_aux = pd.DataFrame(new_row)\n",
    "    df = pd.concat([df, df_aux])\n",
    "\n",
    "\n"
   ]
  },
  {
   "cell_type": "code",
   "execution_count": 77,
   "metadata": {},
   "outputs": [
    {
     "data": {
      "text/html": [
       "<div>\n",
       "<style scoped>\n",
       "    .dataframe tbody tr th:only-of-type {\n",
       "        vertical-align: middle;\n",
       "    }\n",
       "\n",
       "    .dataframe tbody tr th {\n",
       "        vertical-align: top;\n",
       "    }\n",
       "\n",
       "    .dataframe thead th {\n",
       "        text-align: right;\n",
       "    }\n",
       "</style>\n",
       "<table border=\"1\" class=\"dataframe\">\n",
       "  <thead>\n",
       "    <tr style=\"text-align: right;\">\n",
       "      <th></th>\n",
       "      <th>title</th>\n",
       "      <th>pergunta</th>\n",
       "      <th>answer</th>\n",
       "    </tr>\n",
       "  </thead>\n",
       "  <tbody>\n",
       "    <tr>\n",
       "      <th>0</th>\n",
       "      <td>Email marketing - Wikipedia &lt;H1&gt; Email marketi...</td>\n",
       "      <td>which is the most common use of opt-in e-mail ...</td>\n",
       "      <td>[{'translation_text': 'P&gt; Um exemplo comum de ...</td>\n",
       "    </tr>\n",
       "    <tr>\n",
       "      <th>0</th>\n",
       "      <td>The Mother ( How I Met Your Mother ) - wikiped...</td>\n",
       "      <td>how i.met your mother who is the mother</td>\n",
       "      <td>[{'translation_text': 'P &gt; Tracy McConnell , m...</td>\n",
       "    </tr>\n",
       "    <tr>\n",
       "      <th>0</th>\n",
       "      <td>Human fertilization - wikipedia &lt;H1&gt; Human fer...</td>\n",
       "      <td>what type of fertilisation takes place in humans</td>\n",
       "      <td>[{'translation_text': 'P&gt; O processo de fertil...</td>\n",
       "    </tr>\n",
       "    <tr>\n",
       "      <th>0</th>\n",
       "      <td>List of National Football League career quarte...</td>\n",
       "      <td>who had the most wins in the nfl</td>\n",
       "      <td>[{'translation_text': 'P&gt; O quarterback ativo ...</td>\n",
       "    </tr>\n",
       "    <tr>\n",
       "      <th>0</th>\n",
       "      <td>Roanoke Colony - wikipedia &lt;H1&gt; Roanoke Colony...</td>\n",
       "      <td>what happened to the lost settlement of roanoke</td>\n",
       "      <td>[{'translation_text': 'E-mail'}]</td>\n",
       "    </tr>\n",
       "    <tr>\n",
       "      <th>0</th>\n",
       "      <td>List of regions of Africa - wikipedia &lt;H1&gt; Lis...</td>\n",
       "      <td>what are the different regions of africa and h...</td>\n",
       "      <td>[{'translation_text': 'E-mail'}]</td>\n",
       "    </tr>\n",
       "    <tr>\n",
       "      <th>0</th>\n",
       "      <td>Pom Klementieff - wikipedia &lt;H1&gt; Pom Klementie...</td>\n",
       "      <td>who played mantis guardians of the galaxy 2</td>\n",
       "      <td>[{'translation_text': 'P &gt; Pom Klementieff (na...</td>\n",
       "    </tr>\n",
       "    <tr>\n",
       "      <th>0</th>\n",
       "      <td>Frosty the Snowman ( film ) - wikipedia &lt;H1&gt; F...</td>\n",
       "      <td>who did the voice of the magician in frosty th...</td>\n",
       "      <td>[{'translation_text': 'E-mail'}]</td>\n",
       "    </tr>\n",
       "    <tr>\n",
       "      <th>0</th>\n",
       "      <td>History of the Acadians - wikipedia &lt;H1&gt; Histo...</td>\n",
       "      <td>what indian tribe did the acadians form friend...</td>\n",
       "      <td>[{'translation_text': 'P&gt; A sobrevivência dos ...</td>\n",
       "    </tr>\n",
       "    <tr>\n",
       "      <th>0</th>\n",
       "      <td>Outer Banks - wikipedia &lt;H1&gt; Outer Banks &lt;/H1&gt;...</td>\n",
       "      <td>what is considered the outer banks in north ca...</td>\n",
       "      <td>[{'translation_text': 'E-mail'}]</td>\n",
       "    </tr>\n",
       "  </tbody>\n",
       "</table>\n",
       "</div>"
      ],
      "text/plain": [
       "                                               title  \\\n",
       "0  Email marketing - Wikipedia <H1> Email marketi...   \n",
       "0  The Mother ( How I Met Your Mother ) - wikiped...   \n",
       "0  Human fertilization - wikipedia <H1> Human fer...   \n",
       "0  List of National Football League career quarte...   \n",
       "0  Roanoke Colony - wikipedia <H1> Roanoke Colony...   \n",
       "0  List of regions of Africa - wikipedia <H1> Lis...   \n",
       "0  Pom Klementieff - wikipedia <H1> Pom Klementie...   \n",
       "0  Frosty the Snowman ( film ) - wikipedia <H1> F...   \n",
       "0  History of the Acadians - wikipedia <H1> Histo...   \n",
       "0  Outer Banks - wikipedia <H1> Outer Banks </H1>...   \n",
       "\n",
       "                                            pergunta  \\\n",
       "0  which is the most common use of opt-in e-mail ...   \n",
       "0            how i.met your mother who is the mother   \n",
       "0   what type of fertilisation takes place in humans   \n",
       "0                   who had the most wins in the nfl   \n",
       "0    what happened to the lost settlement of roanoke   \n",
       "0  what are the different regions of africa and h...   \n",
       "0        who played mantis guardians of the galaxy 2   \n",
       "0  who did the voice of the magician in frosty th...   \n",
       "0  what indian tribe did the acadians form friend...   \n",
       "0  what is considered the outer banks in north ca...   \n",
       "\n",
       "                                              answer  \n",
       "0  [{'translation_text': 'P> Um exemplo comum de ...  \n",
       "0  [{'translation_text': 'P > Tracy McConnell , m...  \n",
       "0  [{'translation_text': 'P> O processo de fertil...  \n",
       "0  [{'translation_text': 'P> O quarterback ativo ...  \n",
       "0                   [{'translation_text': 'E-mail'}]  \n",
       "0                   [{'translation_text': 'E-mail'}]  \n",
       "0  [{'translation_text': 'P > Pom Klementieff (na...  \n",
       "0                   [{'translation_text': 'E-mail'}]  \n",
       "0  [{'translation_text': 'P> A sobrevivência dos ...  \n",
       "0                   [{'translation_text': 'E-mail'}]  "
      ]
     },
     "execution_count": 77,
     "metadata": {},
     "output_type": "execute_result"
    }
   ],
   "source": [
    "df"
   ]
  },
  {
   "cell_type": "code",
   "execution_count": 48,
   "metadata": {},
   "outputs": [
    {
     "data": {
      "text/plain": [
       "'which is the most common use of opt-in e-mail marketing'"
      ]
     },
     "execution_count": 48,
     "metadata": {},
     "output_type": "execute_result"
    }
   ],
   "source": [
    "small_set[i]['question_text']"
   ]
  },
  {
   "cell_type": "code",
   "execution_count": 30,
   "metadata": {},
   "outputs": [
    {
     "name": "stdout",
     "output_type": "stream",
     "text": [
      "document_text\n",
      "long_answer_candidates\n",
      "question_text\n",
      "annotations\n",
      "document_url\n",
      "example_id\n"
     ]
    }
   ],
   "source": [
    "for i in dataset['train'][1:3]:\n",
    "    print(i)"
   ]
  },
  {
   "cell_type": "code",
   "execution_count": null,
   "metadata": {},
   "outputs": [],
   "source": []
  }
 ],
 "metadata": {
  "kernelspec": {
   "display_name": "venv",
   "language": "python",
   "name": "venv"
  },
  "language_info": {
   "codemirror_mode": {
    "name": "ipython",
    "version": 3
   },
   "file_extension": ".py",
   "mimetype": "text/x-python",
   "name": "python",
   "nbconvert_exporter": "python",
   "pygments_lexer": "ipython3",
   "version": "3.9.13"
  }
 },
 "nbformat": 4,
 "nbformat_minor": 4
}
