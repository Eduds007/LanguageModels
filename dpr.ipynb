{
 "cells": [
  {
   "cell_type": "code",
   "execution_count": 1,
   "metadata": {},
   "outputs": [],
   "source": [
    "#https://docs.haystack.deepset.ai/docs/document_store\n",
    "#https://haystack.deepset.ai/tutorials/09_dpr_training\n",
    "#docker run -p 9200:9200 joaovictorlf/ptwiki-elasticsearch:v1\n",
    "# python squad_to_dpr.py --squad_input_filename data.json --dpr_output_filename data_dpr.json\n"
   ]
  },
  {
   "cell_type": "markdown",
   "metadata": {},
   "source": [
    "Primeiro teste com document store deles"
   ]
  },
  {
   "cell_type": "code",
   "execution_count": 1,
   "metadata": {},
   "outputs": [
    {
     "name": "stderr",
     "output_type": "stream",
     "text": [
      "/home/eduardo/.local/lib/python3.10/site-packages/tqdm/auto.py:21: TqdmWarning: IProgress not found. Please update jupyter and ipywidgets. See https://ipywidgets.readthedocs.io/en/stable/user_install.html\n",
      "  from .autonotebook import tqdm as notebook_tqdm\n",
      "2023-11-29 14:52:43.167259: I tensorflow/core/util/port.cc:110] oneDNN custom operations are on. You may see slightly different numerical results due to floating-point round-off errors from different computation orders. To turn them off, set the environment variable `TF_ENABLE_ONEDNN_OPTS=0`.\n",
      "2023-11-29 14:52:43.378363: I tensorflow/core/platform/cpu_feature_guard.cc:182] This TensorFlow binary is optimized to use available CPU instructions in performance-critical operations.\n",
      "To enable the following instructions: AVX2 AVX512F AVX512_VNNI FMA, in other operations, rebuild TensorFlow with the appropriate compiler flags.\n",
      "2023-11-29 14:52:44.239433: W tensorflow/compiler/tf2tensorrt/utils/py_utils.cc:38] TF-TRT Warning: Could not find TensorRT\n"
     ]
    }
   ],
   "source": [
    "from haystack.nodes import DensePassageRetriever\n",
    "from haystack.document_stores import ElasticsearchDocumentStore"
   ]
  },
  {
   "cell_type": "code",
   "execution_count": 2,
   "metadata": {},
   "outputs": [],
   "source": [
    "train_filename = \"googleTrad2.json\"\n",
    "dev_filename = \"googleTrad2.json\"\n",
    "query_model = \"bert-base-uncased\"\n",
    "passage_model = \"bert-base-uncased\"\n",
    "save_dir = \"../saved_models/dpr\"\n",
    "doc_dir = \"\""
   ]
  },
  {
   "cell_type": "code",
   "execution_count": 2,
   "metadata": {},
   "outputs": [],
   "source": [
    "from haystack.document_stores import ElasticsearchDocumentStore\n",
    "from haystack.nodes import DensePassageRetriever\n",
    "\n"
   ]
  },
  {
   "cell_type": "code",
   "execution_count": 3,
   "metadata": {
    "scrolled": true
   },
   "outputs": [
    {
     "ename": "ConnectionError",
     "evalue": "Initial connection to Elasticsearch failed. Make sure you run an Elasticsearch instance at `[{'host': 'localhost', 'port': 9200}]` and that it has finished the initial ramp up (can take > 30s).",
     "output_type": "error",
     "traceback": [
      "\u001b[0;31m---------------------------------------------------------------------------\u001b[0m",
      "\u001b[0;31mConnectionError\u001b[0m                           Traceback (most recent call last)",
      "File \u001b[0;32m~/.local/lib/python3.10/site-packages/haystack/document_stores/elasticsearch/es7.py:270\u001b[0m, in \u001b[0;36mElasticsearchDocumentStore._init_elastic_client\u001b[0;34m(host, port, username, password, api_key_id, api_key, aws4auth, scheme, ca_certs, verify_certs, timeout, use_system_proxy)\u001b[0m\n\u001b[1;32m    269\u001b[0m         \u001b[39mif\u001b[39;00m \u001b[39mnot\u001b[39;00m status:\n\u001b[0;32m--> 270\u001b[0m             \u001b[39mraise\u001b[39;00m \u001b[39mConnectionError\u001b[39;00m(\n\u001b[1;32m    271\u001b[0m                 \u001b[39mf\u001b[39m\u001b[39m\"\u001b[39m\u001b[39mInitial connection to Elasticsearch failed. Make sure you run an Elasticsearch instance \u001b[39m\u001b[39m\"\u001b[39m\n\u001b[1;32m    272\u001b[0m                 \u001b[39mf\u001b[39m\u001b[39m\"\u001b[39m\u001b[39mat `\u001b[39m\u001b[39m{\u001b[39;00mhosts\u001b[39m}\u001b[39;00m\u001b[39m` and that it has finished the initial ramp up (can take > 30s).\u001b[39m\u001b[39m\"\u001b[39m\n\u001b[1;32m    273\u001b[0m             )\n\u001b[1;32m    274\u001b[0m \u001b[39mexcept\u001b[39;00m \u001b[39mException\u001b[39;00m:\n",
      "\u001b[0;31mConnectionError\u001b[0m: Initial connection to Elasticsearch failed. Make sure you run an Elasticsearch instance at `[{'host': 'localhost', 'port': 9200}]` and that it has finished the initial ramp up (can take > 30s).",
      "\nDuring handling of the above exception, another exception occurred:\n",
      "\u001b[0;31mConnectionError\u001b[0m                           Traceback (most recent call last)",
      "\u001b[1;32m/home/eduardo/Área de Trabalho/4_semestre/IC/LanguageModels/dpr.ipynb Célula 6\u001b[0m line \u001b[0;36m2\n\u001b[1;32m      <a href='vscode-notebook-cell:/home/eduardo/%C3%81rea%20de%20Trabalho/4_semestre/IC/LanguageModels/dpr.ipynb#W5sZmlsZQ%3D%3D?line=0'>1</a>\u001b[0m retriever \u001b[39m=\u001b[39m DensePassageRetriever(\n\u001b[0;32m----> <a href='vscode-notebook-cell:/home/eduardo/%C3%81rea%20de%20Trabalho/4_semestre/IC/LanguageModels/dpr.ipynb#W5sZmlsZQ%3D%3D?line=1'>2</a>\u001b[0m     document_store\u001b[39m=\u001b[39mElasticsearchDocumentStore(),\n\u001b[1;32m      <a href='vscode-notebook-cell:/home/eduardo/%C3%81rea%20de%20Trabalho/4_semestre/IC/LanguageModels/dpr.ipynb#W5sZmlsZQ%3D%3D?line=2'>3</a>\u001b[0m     query_embedding_model\u001b[39m=\u001b[39mquery_model,\n\u001b[1;32m      <a href='vscode-notebook-cell:/home/eduardo/%C3%81rea%20de%20Trabalho/4_semestre/IC/LanguageModels/dpr.ipynb#W5sZmlsZQ%3D%3D?line=3'>4</a>\u001b[0m     passage_embedding_model\u001b[39m=\u001b[39mpassage_model,\n\u001b[1;32m      <a href='vscode-notebook-cell:/home/eduardo/%C3%81rea%20de%20Trabalho/4_semestre/IC/LanguageModels/dpr.ipynb#W5sZmlsZQ%3D%3D?line=4'>5</a>\u001b[0m     max_seq_len_query\u001b[39m=\u001b[39m\u001b[39m64\u001b[39m,\n\u001b[1;32m      <a href='vscode-notebook-cell:/home/eduardo/%C3%81rea%20de%20Trabalho/4_semestre/IC/LanguageModels/dpr.ipynb#W5sZmlsZQ%3D%3D?line=5'>6</a>\u001b[0m     max_seq_len_passage\u001b[39m=\u001b[39m\u001b[39m256\u001b[39m,\n\u001b[1;32m      <a href='vscode-notebook-cell:/home/eduardo/%C3%81rea%20de%20Trabalho/4_semestre/IC/LanguageModels/dpr.ipynb#W5sZmlsZQ%3D%3D?line=6'>7</a>\u001b[0m )\n",
      "File \u001b[0;32m~/.local/lib/python3.10/site-packages/haystack/nodes/base.py:46\u001b[0m, in \u001b[0;36mexportable_to_yaml.<locals>.wrapper_exportable_to_yaml\u001b[0;34m(self, *args, **kwargs)\u001b[0m\n\u001b[1;32m     43\u001b[0m         \u001b[39mself\u001b[39m\u001b[39m.\u001b[39m_component_config[\u001b[39m\"\u001b[39m\u001b[39mparams\u001b[39m\u001b[39m\"\u001b[39m][k] \u001b[39m=\u001b[39m v\n\u001b[1;32m     45\u001b[0m \u001b[39m# Call the actual __init__ function with all the arguments\u001b[39;00m\n\u001b[0;32m---> 46\u001b[0m init_func(\u001b[39mself\u001b[39;49m, \u001b[39m*\u001b[39;49margs, \u001b[39m*\u001b[39;49m\u001b[39m*\u001b[39;49mkwargs)\n",
      "File \u001b[0;32m~/.local/lib/python3.10/site-packages/haystack/document_stores/elasticsearch/es7.py:141\u001b[0m, in \u001b[0;36mElasticsearchDocumentStore.__init__\u001b[0;34m(self, host, port, username, password, api_key_id, api_key, aws4auth, index, label_index, search_fields, content_field, name_field, embedding_field, embedding_dim, custom_mapping, excluded_meta_data, analyzer, scheme, ca_certs, verify_certs, recreate_index, create_index, refresh_type, similarity, timeout, return_embedding, duplicate_documents, scroll, skip_missing_embeddings, synonyms, synonym_type, use_system_proxy, batch_size)\u001b[0m\n\u001b[1;32m    139\u001b[0m \u001b[39mself\u001b[39m\u001b[39m.\u001b[39m_RequestError \u001b[39m=\u001b[39m RequestError\n\u001b[1;32m    140\u001b[0m \u001b[39m# Initiate the Elasticsearch client for version 7.x\u001b[39;00m\n\u001b[0;32m--> 141\u001b[0m client \u001b[39m=\u001b[39m ElasticsearchDocumentStore\u001b[39m.\u001b[39;49m_init_elastic_client(\n\u001b[1;32m    142\u001b[0m     host\u001b[39m=\u001b[39;49mhost,\n\u001b[1;32m    143\u001b[0m     port\u001b[39m=\u001b[39;49mport,\n\u001b[1;32m    144\u001b[0m     username\u001b[39m=\u001b[39;49musername,\n\u001b[1;32m    145\u001b[0m     password\u001b[39m=\u001b[39;49mpassword,\n\u001b[1;32m    146\u001b[0m     api_key\u001b[39m=\u001b[39;49mapi_key,\n\u001b[1;32m    147\u001b[0m     api_key_id\u001b[39m=\u001b[39;49mapi_key_id,\n\u001b[1;32m    148\u001b[0m     aws4auth\u001b[39m=\u001b[39;49maws4auth,\n\u001b[1;32m    149\u001b[0m     scheme\u001b[39m=\u001b[39;49mscheme,\n\u001b[1;32m    150\u001b[0m     ca_certs\u001b[39m=\u001b[39;49mca_certs,\n\u001b[1;32m    151\u001b[0m     verify_certs\u001b[39m=\u001b[39;49mverify_certs,\n\u001b[1;32m    152\u001b[0m     timeout\u001b[39m=\u001b[39;49mtimeout,\n\u001b[1;32m    153\u001b[0m     use_system_proxy\u001b[39m=\u001b[39;49muse_system_proxy,\n\u001b[1;32m    154\u001b[0m )\n\u001b[1;32m    156\u001b[0m \u001b[39msuper\u001b[39m()\u001b[39m.\u001b[39m\u001b[39m__init__\u001b[39m(\n\u001b[1;32m    157\u001b[0m     client\u001b[39m=\u001b[39mclient,\n\u001b[1;32m    158\u001b[0m     index\u001b[39m=\u001b[39mindex,\n\u001b[0;32m   (...)\u001b[0m\n\u001b[1;32m    178\u001b[0m     batch_size\u001b[39m=\u001b[39mbatch_size,\n\u001b[1;32m    179\u001b[0m )\n\u001b[1;32m    181\u001b[0m \u001b[39mself\u001b[39m\u001b[39m.\u001b[39m_validate_server_version(expected_version\u001b[39m=\u001b[39m\u001b[39m7\u001b[39m)\n",
      "File \u001b[0;32m~/.local/lib/python3.10/site-packages/haystack/document_stores/elasticsearch/es7.py:275\u001b[0m, in \u001b[0;36mElasticsearchDocumentStore._init_elastic_client\u001b[0;34m(host, port, username, password, api_key_id, api_key, aws4auth, scheme, ca_certs, verify_certs, timeout, use_system_proxy)\u001b[0m\n\u001b[1;32m    270\u001b[0m             \u001b[39mraise\u001b[39;00m \u001b[39mConnectionError\u001b[39;00m(\n\u001b[1;32m    271\u001b[0m                 \u001b[39mf\u001b[39m\u001b[39m\"\u001b[39m\u001b[39mInitial connection to Elasticsearch failed. Make sure you run an Elasticsearch instance \u001b[39m\u001b[39m\"\u001b[39m\n\u001b[1;32m    272\u001b[0m                 \u001b[39mf\u001b[39m\u001b[39m\"\u001b[39m\u001b[39mat `\u001b[39m\u001b[39m{\u001b[39;00mhosts\u001b[39m}\u001b[39;00m\u001b[39m` and that it has finished the initial ramp up (can take > 30s).\u001b[39m\u001b[39m\"\u001b[39m\n\u001b[1;32m    273\u001b[0m             )\n\u001b[1;32m    274\u001b[0m \u001b[39mexcept\u001b[39;00m \u001b[39mException\u001b[39;00m:\n\u001b[0;32m--> 275\u001b[0m     \u001b[39mraise\u001b[39;00m \u001b[39mConnectionError\u001b[39;00m(\n\u001b[1;32m    276\u001b[0m         \u001b[39mf\u001b[39m\u001b[39m\"\u001b[39m\u001b[39mInitial connection to Elasticsearch failed. Make sure you run an Elasticsearch instance at `\u001b[39m\u001b[39m{\u001b[39;00mhosts\u001b[39m}\u001b[39;00m\u001b[39m` and that it has finished the initial ramp up (can take > 30s).\u001b[39m\u001b[39m\"\u001b[39m\n\u001b[1;32m    277\u001b[0m     )\n\u001b[1;32m    278\u001b[0m \u001b[39mreturn\u001b[39;00m client\n",
      "\u001b[0;31mConnectionError\u001b[0m: Initial connection to Elasticsearch failed. Make sure you run an Elasticsearch instance at `[{'host': 'localhost', 'port': 9200}]` and that it has finished the initial ramp up (can take > 30s)."
     ]
    }
   ],
   "source": [
    "retriever = DensePassageRetriever(\n",
    "    document_store=ElasticsearchDocumentStore(),\n",
    "    query_embedding_model=query_model,\n",
    "    passage_embedding_model=passage_model,\n",
    "    max_seq_len_query=64,\n",
    "    max_seq_len_passage=256,\n",
    ")"
   ]
  },
  {
   "cell_type": "code",
   "execution_count": null,
   "metadata": {},
   "outputs": [
    {
     "name": "stderr",
     "output_type": "stream",
     "text": [
      "Preprocessing dataset: 100%|█| 1/1 [00:00<00:00, 76.94 \n",
      "Preprocessing dataset: 100%|█| 1/1 [00:00<00:00, 83.36 \n",
      "Preprocessing dataset: 100%|█| 1/1 [00:00<00:00, 76.93 \n",
      "Train epoch 0/0 (Cur. train loss: 0.0000): 100%|█| 1/1 \n",
      "Evaluating: 100%|████████| 1/1 [00:03<00:00,  3.69s/it]\n"
     ]
    }
   ],
   "source": [
    "retriever.train(\n",
    "    data_dir=doc_dir,\n",
    "    train_filename=train_filename,\n",
    "    dev_filename=dev_filename,\n",
    "    test_filename=dev_filename,\n",
    "    n_epochs=1,\n",
    "    batch_size=16,\n",
    "    grad_acc_steps=8,\n",
    "    save_dir=save_dir,\n",
    "    evaluate_every=3000,\n",
    "    embed_title=True,\n",
    "    num_positives=1,\n",
    "    num_hard_negatives=1,\n",
    ")"
   ]
  },
  {
   "cell_type": "code",
   "execution_count": null,
   "metadata": {},
   "outputs": [
    {
     "ename": "SyntaxError",
     "evalue": "unterminated string literal (detected at line 1) (2237330750.py, line 1)",
     "output_type": "error",
     "traceback": [
      "\u001b[1;36m  Cell \u001b[1;32mIn[6], line 1\u001b[1;36m\u001b[0m\n\u001b[1;33m    print('eba\")\u001b[0m\n\u001b[1;37m          ^\u001b[0m\n\u001b[1;31mSyntaxError\u001b[0m\u001b[1;31m:\u001b[0m unterminated string literal (detected at line 1)\n"
     ]
    }
   ],
   "source": [
    "print('eba\")"
   ]
  },
  {
   "cell_type": "code",
   "execution_count": null,
   "metadata": {},
   "outputs": [],
   "source": [
    "66"
   ]
  },
  {
   "cell_type": "code",
   "execution_count": null,
   "metadata": {},
   "outputs": [],
   "source": [
    "reloaded_retriever = DensePassageRetriever.load(load_dir=save_dir, document_store=ElasticsearchDocumentStore())"
   ]
  },
  {
   "cell_type": "code",
   "execution_count": null,
   "metadata": {},
   "outputs": [
    {
     "name": "stderr",
     "output_type": "stream",
     "text": [
      "No documents with embeddings. Run the document store's update_embeddings() method.\n"
     ]
    },
    {
     "data": {
      "text/plain": [
       "[]"
      ]
     },
     "execution_count": 12,
     "metadata": {},
     "output_type": "execute_result"
    }
   ],
   "source": [
    "reloaded_retriever.retrieve(query='quem ganhou a copa')"
   ]
  },
  {
   "cell_type": "code",
   "execution_count": null,
   "metadata": {},
   "outputs": [],
   "source": [
    "ElasticsearchDocumentStore().update_embeddings(reloaded_retriever)"
   ]
  },
  {
   "cell_type": "code",
   "execution_count": null,
   "metadata": {},
   "outputs": [],
   "source": [
    "reloaded_retriever.retrieve(query='quem ganhou a copa')"
   ]
  },
  {
   "cell_type": "code",
   "execution_count": null,
   "metadata": {},
   "outputs": [],
   "source": []
  }
 ],
 "metadata": {
  "kernelspec": {
   "display_name": "Python 3 (ipykernel)",
   "language": "python",
   "name": "python3"
  },
  "language_info": {
   "codemirror_mode": {
    "name": "ipython",
    "version": 3
   },
   "file_extension": ".py",
   "mimetype": "text/x-python",
   "name": "python",
   "nbconvert_exporter": "python",
   "pygments_lexer": "ipython3",
   "version": "3.10.12"
  }
 },
 "nbformat": 4,
 "nbformat_minor": 4
}
