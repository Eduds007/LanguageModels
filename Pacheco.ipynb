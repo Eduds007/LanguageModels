{
 "cells": [
  {
   "cell_type": "code",
   "execution_count": 3,
   "id": "bdd1602a-7a9b-4265-a60c-f6205a6db760",
   "metadata": {},
   "outputs": [
    {
     "ename": "FileNotFoundError",
     "evalue": "Unable to find '/home/eduardo/Área de Trabalho/4_semestre/IC/LanguageModels/./simplified-nq-train.jsonl'",
     "output_type": "error",
     "traceback": [
      "\u001b[0;31m---------------------------------------------------------------------------\u001b[0m",
      "\u001b[0;31mFileNotFoundError\u001b[0m                         Traceback (most recent call last)",
      "\u001b[1;32m/home/eduardo/Área de Trabalho/4_semestre/IC/LanguageModels/Pacheco.ipynb Célula 1\u001b[0m line \u001b[0;36m5\n\u001b[1;32m      <a href='vscode-notebook-cell:/home/eduardo/%C3%81rea%20de%20Trabalho/4_semestre/IC/LanguageModels/Pacheco.ipynb#W0sZmlsZQ%3D%3D?line=0'>1</a>\u001b[0m \u001b[39mimport\u001b[39;00m \u001b[39mdatasets\u001b[39;00m \n\u001b[1;32m      <a href='vscode-notebook-cell:/home/eduardo/%C3%81rea%20de%20Trabalho/4_semestre/IC/LanguageModels/Pacheco.ipynb#W0sZmlsZQ%3D%3D?line=2'>3</a>\u001b[0m \u001b[39mfrom\u001b[39;00m \u001b[39mdatasets\u001b[39;00m \u001b[39mimport\u001b[39;00m load_dataset\n\u001b[0;32m----> <a href='vscode-notebook-cell:/home/eduardo/%C3%81rea%20de%20Trabalho/4_semestre/IC/LanguageModels/Pacheco.ipynb#W0sZmlsZQ%3D%3D?line=4'>5</a>\u001b[0m datasets \u001b[39m=\u001b[39m load_dataset(\u001b[39m'\u001b[39;49m\u001b[39mjson\u001b[39;49m\u001b[39m'\u001b[39;49m,data_files\u001b[39m=\u001b[39;49m\u001b[39m'\u001b[39;49m\u001b[39m./simplified-nq-train.jsonl\u001b[39;49m\u001b[39m'\u001b[39;49m)\n",
      "File \u001b[0;32m~/.local/lib/python3.10/site-packages/datasets/load.py:2129\u001b[0m, in \u001b[0;36mload_dataset\u001b[0;34m(path, name, data_dir, data_files, split, cache_dir, features, download_config, download_mode, verification_mode, ignore_verifications, keep_in_memory, save_infos, revision, token, use_auth_token, task, streaming, num_proc, storage_options, **config_kwargs)\u001b[0m\n\u001b[1;32m   2124\u001b[0m verification_mode \u001b[39m=\u001b[39m VerificationMode(\n\u001b[1;32m   2125\u001b[0m     (verification_mode \u001b[39mor\u001b[39;00m VerificationMode\u001b[39m.\u001b[39mBASIC_CHECKS) \u001b[39mif\u001b[39;00m \u001b[39mnot\u001b[39;00m save_infos \u001b[39melse\u001b[39;00m VerificationMode\u001b[39m.\u001b[39mALL_CHECKS\n\u001b[1;32m   2126\u001b[0m )\n\u001b[1;32m   2128\u001b[0m \u001b[39m# Create a dataset builder\u001b[39;00m\n\u001b[0;32m-> 2129\u001b[0m builder_instance \u001b[39m=\u001b[39m load_dataset_builder(\n\u001b[1;32m   2130\u001b[0m     path\u001b[39m=\u001b[39;49mpath,\n\u001b[1;32m   2131\u001b[0m     name\u001b[39m=\u001b[39;49mname,\n\u001b[1;32m   2132\u001b[0m     data_dir\u001b[39m=\u001b[39;49mdata_dir,\n\u001b[1;32m   2133\u001b[0m     data_files\u001b[39m=\u001b[39;49mdata_files,\n\u001b[1;32m   2134\u001b[0m     cache_dir\u001b[39m=\u001b[39;49mcache_dir,\n\u001b[1;32m   2135\u001b[0m     features\u001b[39m=\u001b[39;49mfeatures,\n\u001b[1;32m   2136\u001b[0m     download_config\u001b[39m=\u001b[39;49mdownload_config,\n\u001b[1;32m   2137\u001b[0m     download_mode\u001b[39m=\u001b[39;49mdownload_mode,\n\u001b[1;32m   2138\u001b[0m     revision\u001b[39m=\u001b[39;49mrevision,\n\u001b[1;32m   2139\u001b[0m     token\u001b[39m=\u001b[39;49mtoken,\n\u001b[1;32m   2140\u001b[0m     storage_options\u001b[39m=\u001b[39;49mstorage_options,\n\u001b[1;32m   2141\u001b[0m     \u001b[39m*\u001b[39;49m\u001b[39m*\u001b[39;49mconfig_kwargs,\n\u001b[1;32m   2142\u001b[0m )\n\u001b[1;32m   2144\u001b[0m \u001b[39m# Return iterable dataset in case of streaming\u001b[39;00m\n\u001b[1;32m   2145\u001b[0m \u001b[39mif\u001b[39;00m streaming:\n",
      "File \u001b[0;32m~/.local/lib/python3.10/site-packages/datasets/load.py:1815\u001b[0m, in \u001b[0;36mload_dataset_builder\u001b[0;34m(path, name, data_dir, data_files, cache_dir, features, download_config, download_mode, revision, token, use_auth_token, storage_options, **config_kwargs)\u001b[0m\n\u001b[1;32m   1813\u001b[0m     download_config \u001b[39m=\u001b[39m download_config\u001b[39m.\u001b[39mcopy() \u001b[39mif\u001b[39;00m download_config \u001b[39melse\u001b[39;00m DownloadConfig()\n\u001b[1;32m   1814\u001b[0m     download_config\u001b[39m.\u001b[39mstorage_options\u001b[39m.\u001b[39mupdate(storage_options)\n\u001b[0;32m-> 1815\u001b[0m dataset_module \u001b[39m=\u001b[39m dataset_module_factory(\n\u001b[1;32m   1816\u001b[0m     path,\n\u001b[1;32m   1817\u001b[0m     revision\u001b[39m=\u001b[39;49mrevision,\n\u001b[1;32m   1818\u001b[0m     download_config\u001b[39m=\u001b[39;49mdownload_config,\n\u001b[1;32m   1819\u001b[0m     download_mode\u001b[39m=\u001b[39;49mdownload_mode,\n\u001b[1;32m   1820\u001b[0m     data_dir\u001b[39m=\u001b[39;49mdata_dir,\n\u001b[1;32m   1821\u001b[0m     data_files\u001b[39m=\u001b[39;49mdata_files,\n\u001b[1;32m   1822\u001b[0m )\n\u001b[1;32m   1823\u001b[0m \u001b[39m# Get dataset builder class from the processing script\u001b[39;00m\n\u001b[1;32m   1824\u001b[0m builder_kwargs \u001b[39m=\u001b[39m dataset_module\u001b[39m.\u001b[39mbuilder_kwargs\n",
      "File \u001b[0;32m~/.local/lib/python3.10/site-packages/datasets/load.py:1430\u001b[0m, in \u001b[0;36mdataset_module_factory\u001b[0;34m(path, revision, download_config, download_mode, dynamic_modules_path, data_dir, data_files, **download_kwargs)\u001b[0m\n\u001b[1;32m   1407\u001b[0m \u001b[39m# We have several ways to get a dataset builder:\u001b[39;00m\n\u001b[1;32m   1408\u001b[0m \u001b[39m#\u001b[39;00m\n\u001b[1;32m   1409\u001b[0m \u001b[39m# - if path is the name of a packaged dataset module\u001b[39;00m\n\u001b[0;32m   (...)\u001b[0m\n\u001b[1;32m   1421\u001b[0m \n\u001b[1;32m   1422\u001b[0m \u001b[39m# Try packaged\u001b[39;00m\n\u001b[1;32m   1423\u001b[0m \u001b[39mif\u001b[39;00m path \u001b[39min\u001b[39;00m _PACKAGED_DATASETS_MODULES:\n\u001b[1;32m   1424\u001b[0m     \u001b[39mreturn\u001b[39;00m PackagedDatasetModuleFactory(\n\u001b[1;32m   1425\u001b[0m         path,\n\u001b[1;32m   1426\u001b[0m         data_dir\u001b[39m=\u001b[39;49mdata_dir,\n\u001b[1;32m   1427\u001b[0m         data_files\u001b[39m=\u001b[39;49mdata_files,\n\u001b[1;32m   1428\u001b[0m         download_config\u001b[39m=\u001b[39;49mdownload_config,\n\u001b[1;32m   1429\u001b[0m         download_mode\u001b[39m=\u001b[39;49mdownload_mode,\n\u001b[0;32m-> 1430\u001b[0m     )\u001b[39m.\u001b[39;49mget_module()\n\u001b[1;32m   1431\u001b[0m \u001b[39m# Try locally\u001b[39;00m\n\u001b[1;32m   1432\u001b[0m \u001b[39melif\u001b[39;00m path\u001b[39m.\u001b[39mendswith(filename):\n",
      "File \u001b[0;32m~/.local/lib/python3.10/site-packages/datasets/load.py:958\u001b[0m, in \u001b[0;36mPackagedDatasetModuleFactory.get_module\u001b[0;34m(self)\u001b[0m\n\u001b[1;32m    956\u001b[0m base_path \u001b[39m=\u001b[39m Path(\u001b[39mself\u001b[39m\u001b[39m.\u001b[39mdata_dir \u001b[39mor\u001b[39;00m \u001b[39m\"\u001b[39m\u001b[39m\"\u001b[39m)\u001b[39m.\u001b[39mexpanduser()\u001b[39m.\u001b[39mresolve()\u001b[39m.\u001b[39mas_posix()\n\u001b[1;32m    957\u001b[0m patterns \u001b[39m=\u001b[39m sanitize_patterns(\u001b[39mself\u001b[39m\u001b[39m.\u001b[39mdata_files) \u001b[39mif\u001b[39;00m \u001b[39mself\u001b[39m\u001b[39m.\u001b[39mdata_files \u001b[39mis\u001b[39;00m \u001b[39mnot\u001b[39;00m \u001b[39mNone\u001b[39;00m \u001b[39melse\u001b[39;00m get_data_patterns(base_path)\n\u001b[0;32m--> 958\u001b[0m data_files \u001b[39m=\u001b[39m DataFilesDict\u001b[39m.\u001b[39;49mfrom_patterns(\n\u001b[1;32m    959\u001b[0m     patterns,\n\u001b[1;32m    960\u001b[0m     download_config\u001b[39m=\u001b[39;49m\u001b[39mself\u001b[39;49m\u001b[39m.\u001b[39;49mdownload_config,\n\u001b[1;32m    961\u001b[0m     base_path\u001b[39m=\u001b[39;49mbase_path,\n\u001b[1;32m    962\u001b[0m )\n\u001b[1;32m    963\u001b[0m supports_metadata \u001b[39m=\u001b[39m \u001b[39mself\u001b[39m\u001b[39m.\u001b[39mname \u001b[39min\u001b[39;00m _MODULE_SUPPORTS_METADATA\n\u001b[1;32m    964\u001b[0m \u001b[39mif\u001b[39;00m \u001b[39mself\u001b[39m\u001b[39m.\u001b[39mdata_files \u001b[39mis\u001b[39;00m \u001b[39mNone\u001b[39;00m \u001b[39mand\u001b[39;00m supports_metadata \u001b[39mand\u001b[39;00m patterns \u001b[39m!=\u001b[39m DEFAULT_PATTERNS_ALL:\n",
      "File \u001b[0;32m~/.local/lib/python3.10/site-packages/datasets/data_files.py:686\u001b[0m, in \u001b[0;36mDataFilesDict.from_patterns\u001b[0;34m(cls, patterns, base_path, allowed_extensions, download_config)\u001b[0m\n\u001b[1;32m    683\u001b[0m out \u001b[39m=\u001b[39m \u001b[39mcls\u001b[39m()\n\u001b[1;32m    684\u001b[0m \u001b[39mfor\u001b[39;00m key, patterns_for_key \u001b[39min\u001b[39;00m patterns\u001b[39m.\u001b[39mitems():\n\u001b[1;32m    685\u001b[0m     out[key] \u001b[39m=\u001b[39m (\n\u001b[0;32m--> 686\u001b[0m         DataFilesList\u001b[39m.\u001b[39;49mfrom_patterns(\n\u001b[1;32m    687\u001b[0m             patterns_for_key,\n\u001b[1;32m    688\u001b[0m             base_path\u001b[39m=\u001b[39;49mbase_path,\n\u001b[1;32m    689\u001b[0m             allowed_extensions\u001b[39m=\u001b[39;49mallowed_extensions,\n\u001b[1;32m    690\u001b[0m             download_config\u001b[39m=\u001b[39;49mdownload_config,\n\u001b[1;32m    691\u001b[0m         )\n\u001b[1;32m    692\u001b[0m         \u001b[39mif\u001b[39;00m \u001b[39mnot\u001b[39;00m \u001b[39misinstance\u001b[39m(patterns_for_key, DataFilesList)\n\u001b[1;32m    693\u001b[0m         \u001b[39melse\u001b[39;00m patterns_for_key\n\u001b[1;32m    694\u001b[0m     )\n\u001b[1;32m    695\u001b[0m \u001b[39mreturn\u001b[39;00m out\n",
      "File \u001b[0;32m~/.local/lib/python3.10/site-packages/datasets/data_files.py:591\u001b[0m, in \u001b[0;36mDataFilesList.from_patterns\u001b[0;34m(cls, patterns, base_path, allowed_extensions, download_config)\u001b[0m\n\u001b[1;32m    588\u001b[0m \u001b[39mfor\u001b[39;00m pattern \u001b[39min\u001b[39;00m patterns:\n\u001b[1;32m    589\u001b[0m     \u001b[39mtry\u001b[39;00m:\n\u001b[1;32m    590\u001b[0m         data_files\u001b[39m.\u001b[39mextend(\n\u001b[0;32m--> 591\u001b[0m             resolve_pattern(\n\u001b[1;32m    592\u001b[0m                 pattern,\n\u001b[1;32m    593\u001b[0m                 base_path\u001b[39m=\u001b[39;49mbase_path,\n\u001b[1;32m    594\u001b[0m                 allowed_extensions\u001b[39m=\u001b[39;49mallowed_extensions,\n\u001b[1;32m    595\u001b[0m                 download_config\u001b[39m=\u001b[39;49mdownload_config,\n\u001b[1;32m    596\u001b[0m             )\n\u001b[1;32m    597\u001b[0m         )\n\u001b[1;32m    598\u001b[0m     \u001b[39mexcept\u001b[39;00m \u001b[39mFileNotFoundError\u001b[39;00m:\n\u001b[1;32m    599\u001b[0m         \u001b[39mif\u001b[39;00m \u001b[39mnot\u001b[39;00m has_magic(pattern):\n",
      "File \u001b[0;32m~/.local/lib/python3.10/site-packages/datasets/data_files.py:380\u001b[0m, in \u001b[0;36mresolve_pattern\u001b[0;34m(pattern, base_path, allowed_extensions, download_config)\u001b[0m\n\u001b[1;32m    378\u001b[0m     \u001b[39mif\u001b[39;00m allowed_extensions \u001b[39mis\u001b[39;00m \u001b[39mnot\u001b[39;00m \u001b[39mNone\u001b[39;00m:\n\u001b[1;32m    379\u001b[0m         error_msg \u001b[39m+\u001b[39m\u001b[39m=\u001b[39m \u001b[39mf\u001b[39m\u001b[39m\"\u001b[39m\u001b[39m with any supported extension \u001b[39m\u001b[39m{\u001b[39;00m\u001b[39mlist\u001b[39m(allowed_extensions)\u001b[39m}\u001b[39;00m\u001b[39m\"\u001b[39m\n\u001b[0;32m--> 380\u001b[0m     \u001b[39mraise\u001b[39;00m \u001b[39mFileNotFoundError\u001b[39;00m(error_msg)\n\u001b[1;32m    381\u001b[0m \u001b[39mreturn\u001b[39;00m out\n",
      "\u001b[0;31mFileNotFoundError\u001b[0m: Unable to find '/home/eduardo/Área de Trabalho/4_semestre/IC/LanguageModels/./simplified-nq-train.jsonl'"
     ]
    }
   ],
   "source": [
    "import datasets \n",
    "\n",
    "from datasets import load_dataset\n",
    "\n",
    "datasets = load_dataset('json',data_files='simplified-nq-train.jsonl')"
   ]
  },
  {
   "cell_type": "code",
   "execution_count": null,
   "id": "1e9dc376-2883-4cd4-8c04-4360be971f6c",
   "metadata": {},
   "outputs": [
    {
     "name": "stdout",
     "output_type": "stream",
     "text": [
      "DatasetDict({\n",
      "    train: Dataset({\n",
      "        features: ['document_text', 'long_answer_candidates', 'question_text', 'annotations', 'document_url', 'example_id'],\n",
      "        num_rows: 307373\n",
      "    })\n",
      "})\n"
     ]
    }
   ],
   "source": [
    "print(datasets)\n"
   ]
  },
  {
   "cell_type": "code",
   "execution_count": null,
   "id": "756f527a-2ddd-4ec7-9c6b-1149dee70655",
   "metadata": {},
   "outputs": [
    {
     "name": "stdout",
     "output_type": "stream",
     "text": [
      "huggingface/tokenizers: The current process just got forked, after parallelism has already been used. Disabling parallelism to avoid deadlocks...\n",
      "To disable this warning, you can either:\n",
      "\t- Avoid using `tokenizers` before the fork if possible\n",
      "\t- Explicitly set the environment variable TOKENIZERS_PARALLELISM=(true | false)\n",
      "Defaulting to user installation because normal site-packages is not writeable\n",
      "Requirement already satisfied: transformers in /home/eduardo/.local/lib/python3.10/site-packages (4.32.1)\n",
      "Requirement already satisfied: tensorRT in /home/eduardo/.local/lib/python3.10/site-packages (8.6.1.post1)\n",
      "Requirement already satisfied: filelock in /home/eduardo/.local/lib/python3.10/site-packages (from transformers) (3.12.2)\n",
      "Requirement already satisfied: huggingface-hub<1.0,>=0.15.1 in /home/eduardo/.local/lib/python3.10/site-packages (from transformers) (0.17.2)\n",
      "Requirement already satisfied: numpy>=1.17 in /home/eduardo/.local/lib/python3.10/site-packages (from transformers) (1.24.3)\n",
      "Requirement already satisfied: packaging>=20.0 in /home/eduardo/.local/lib/python3.10/site-packages (from transformers) (23.1)\n",
      "Requirement already satisfied: pyyaml>=5.1 in /home/eduardo/.local/lib/python3.10/site-packages (from transformers) (6.0.1)\n",
      "Requirement already satisfied: regex!=2019.12.17 in /home/eduardo/.local/lib/python3.10/site-packages (from transformers) (2023.8.8)\n",
      "Requirement already satisfied: requests in /home/eduardo/.local/lib/python3.10/site-packages (from transformers) (2.31.0)\n",
      "Requirement already satisfied: tokenizers!=0.11.3,<0.14,>=0.11.1 in /home/eduardo/.local/lib/python3.10/site-packages (from transformers) (0.13.3)\n",
      "Requirement already satisfied: safetensors>=0.3.1 in /home/eduardo/.local/lib/python3.10/site-packages (from transformers) (0.3.3)\n",
      "Requirement already satisfied: tqdm>=4.27 in /home/eduardo/.local/lib/python3.10/site-packages (from transformers) (4.65.0)\n",
      "Requirement already satisfied: fsspec in /home/eduardo/.local/lib/python3.10/site-packages (from huggingface-hub<1.0,>=0.15.1->transformers) (2023.9.2)\n",
      "Requirement already satisfied: typing-extensions>=3.7.4.3 in /home/eduardo/.local/lib/python3.10/site-packages (from huggingface-hub<1.0,>=0.15.1->transformers) (4.5.0)\n",
      "Requirement already satisfied: charset-normalizer<4,>=2 in /home/eduardo/.local/lib/python3.10/site-packages (from requests->transformers) (3.1.0)\n",
      "Requirement already satisfied: idna<4,>=2.5 in /home/eduardo/.local/lib/python3.10/site-packages (from requests->transformers) (3.4)\n",
      "Requirement already satisfied: urllib3<3,>=1.21.1 in /home/eduardo/.local/lib/python3.10/site-packages (from requests->transformers) (1.26.16)\n",
      "Requirement already satisfied: certifi>=2017.4.17 in /home/eduardo/.local/lib/python3.10/site-packages (from requests->transformers) (2023.5.7)\n",
      "\n",
      "\u001b[1m[\u001b[0m\u001b[34;49mnotice\u001b[0m\u001b[1;39;49m]\u001b[0m\u001b[39;49m A new release of pip is available: \u001b[0m\u001b[31;49m23.2.1\u001b[0m\u001b[39;49m -> \u001b[0m\u001b[32;49m23.3.1\u001b[0m\n",
      "\u001b[1m[\u001b[0m\u001b[34;49mnotice\u001b[0m\u001b[1;39;49m]\u001b[0m\u001b[39;49m To update, run: \u001b[0m\u001b[32;49mpython3 -m pip install --upgrade pip\u001b[0m\n",
      "Note: you may need to restart the kernel to use updated packages.\n"
     ]
    }
   ],
   "source": [
    "pip install transformers tensorRT"
   ]
  },
  {
   "cell_type": "code",
   "execution_count": null,
   "id": "bb46c289-8b6b-4020-80aa-eda4c3622119",
   "metadata": {},
   "outputs": [],
   "source": [
    "from transformers import AutoTokenizer, AutoModelForSeq2SeqLM, pipeline"
   ]
  },
  {
   "cell_type": "code",
   "execution_count": null,
   "id": "452672df-5726-4e30-8b3d-c248343371d9",
   "metadata": {},
   "outputs": [],
   "source": [
    "pip install sacremoses"
   ]
  },
  {
   "cell_type": "code",
   "execution_count": null,
   "id": "13d1ea0c-808b-4898-ad9b-5ebcda4640f9",
   "metadata": {},
   "outputs": [],
   "source": [
    "from transformers import pipeline\n",
    "import pandas as pd\n",
    "pipe = pipeline(\"translation\", model=\"Helsinki-NLP/opus-mt-tc-big-en-pt\")"
   ]
  },
  {
   "cell_type": "code",
   "execution_count": null,
   "id": "b5e10deb-1889-4264-8dfc-16daad7cd2cb",
   "metadata": {},
   "outputs": [],
   "source": [
    "\n",
    "from transformers import AutoTokenizer, AutoModelForSeq2SeqLM, pipeline\n",
    "  \n",
    "tokenizer = AutoTokenizer.from_pretrained(\"unicamp-dl/translation-en-pt-t5\")\n",
    "\n",
    "model = AutoModelForSeq2SeqLM.from_pretrained(\"unicamp-dl/translation-en-pt-t5\")\n",
    "\n",
    "enpt_pipeline = pipeline('text2text-generation', model=model, tokenizer=tokenizer)"
   ]
  },
  {
   "cell_type": "code",
   "execution_count": null,
   "id": "8bb34561-ae39-4e1f-b855-ed9c8b7c76ee",
   "metadata": {},
   "outputs": [
    {
     "name": "stdout",
     "output_type": "stream",
     "text": [
      "[{'generated_text': 'Foi várias vezes a Hawaii'}]\n",
      "[{'translation_text': 'O Tom tentou esfaquear-me.'}]\n"
     ]
    }
   ],
   "source": [
    "print(enpt_pipeline(\"translate English to Portuguese: He has been to Hawaii several times\"))\n",
    "print(pipe(\">>por<< Tom tried to stab me.\"))\n"
   ]
  },
  {
   "cell_type": "code",
   "execution_count": null,
   "id": "4ae7db33-1d5a-4820-8130-12ae0d12da63",
   "metadata": {},
   "outputs": [
    {
     "data": {
      "text/plain": [
       "['Foi várias vezes a Hawaii']"
      ]
     },
     "execution_count": 58,
     "metadata": {},
     "output_type": "execute_result"
    }
   ],
   "source": [
    "def extrair_texto_da_lista(lista):\n",
    "    if isinstance(lista, list):\n",
    "        textos = []\n",
    "        for elemento in lista:\n",
    "            texto = elemento.get('generated_text', '')\n",
    "            textos.append(texto)\n",
    "        return textos\n",
    "    return None\n",
    "\n",
    "\n",
    "extrair_texto_da_lista(enpt_pipeline(\"translate English to Portuguese: He has been to Hawaii several times\"))"
   ]
  },
  {
   "cell_type": "code",
   "execution_count": null,
   "id": "c742228b-5df7-42da-9ff4-2e5e6c9e2b13",
   "metadata": {},
   "outputs": [],
   "source": [
    "sample = datasets['train'][1]"
   ]
  },
  {
   "cell_type": "code",
   "execution_count": null,
   "id": "5522bb7c-fd1f-4a5d-a915-3a36f1045faa",
   "metadata": {},
   "outputs": [],
   "source": [
    "small_set = datasets['train']"
   ]
  },
  {
   "cell_type": "code",
   "execution_count": null,
   "id": "b856be35-6bbf-4a21-87aa-617b0154429b",
   "metadata": {},
   "outputs": [],
   "source": [
    "df = pd.DataFrame(columns = ['title', 'pergunta', 'answer'])"
   ]
  },
  {
   "cell_type": "code",
   "execution_count": null,
   "id": "c7681039-4cbb-4658-8e6d-65e75caa7e27",
   "metadata": {},
   "outputs": [],
   "source": [
    "import re\n",
    "import html\n",
    "\n",
    "def clean_html_tags(string_list):\n",
    "    cleaned_list = []\n",
    "    for text in string_list:\n",
    "        # Remove as tags HTML e decodifica entidades HTML\n",
    "        cleaned_text = html.unescape(re.sub(r'<.*?>', '', text))\n",
    "        cleaned_list.append(cleaned_text)\n",
    "    return cleaned_list\n",
    "\n",
    "def cleann_dict_list(dict_list):\n",
    "    cleaned_list = []\n",
    "    for dictionary in dict_list:\n",
    "        if isinstance(dictionary, dict):\n",
    "            cleaned_dict = {}\n",
    "            for key, value in dictionary.items():\n",
    "                if isinstance(value, str):\n",
    "                    # Aplicar a limpeza de tags HTML\n",
    "                    cleaned_value = clean_html_tags(value)\n",
    "                    # Aplicar a limpeza de caracteres não alfanuméricos\n",
    "                    cleaned_value = re.sub('[^A-Za-z0-9]', ' ', cleaned_value)\n",
    "                    cleaned_dict[key] = cleaned_value\n",
    "                else:\n",
    "                    cleaned_dict[key] = value\n",
    "            cleaned_list.append(cleaned_dict)\n",
    "        else:\n",
    "            cleaned_list.append(dictionary)\n",
    "    return cleaned_list"
   ]
  },
  {
   "cell_type": "code",
   "execution_count": null,
   "id": "398e568d-f4b8-4cc2-bdfe-0c9c40a42bce",
   "metadata": {},
   "outputs": [
    {
     "data": {
      "text/html": [
       "<div>\n",
       "<style scoped>\n",
       "    .dataframe tbody tr th:only-of-type {\n",
       "        vertical-align: middle;\n",
       "    }\n",
       "\n",
       "    .dataframe tbody tr th {\n",
       "        vertical-align: top;\n",
       "    }\n",
       "\n",
       "    .dataframe thead th {\n",
       "        text-align: right;\n",
       "    }\n",
       "</style>\n",
       "<table border=\"1\" class=\"dataframe\">\n",
       "  <thead>\n",
       "    <tr style=\"text-align: right;\">\n",
       "      <th></th>\n",
       "      <th>title</th>\n",
       "      <th>pergunta</th>\n",
       "      <th>answer</th>\n",
       "    </tr>\n",
       "  </thead>\n",
       "  <tbody>\n",
       "    <tr>\n",
       "      <th>0</th>\n",
       "      <td>Email marketing - Wikipedia &lt;H1&gt; Email marketi...</td>\n",
       "      <td>[que é a utilização mais comum do marketing op...</td>\n",
       "      <td>[ Um exemplo comum de marketing de licença é u...</td>\n",
       "    </tr>\n",
       "    <tr>\n",
       "      <th>0</th>\n",
       "      <td>The Mother ( How I Met Your Mother ) - wikiped...</td>\n",
       "      <td>[como eu conheci a mãe que é a mãe]</td>\n",
       "      <td>[ Tracy McConnell , mais conhecido como ``A mãe]</td>\n",
       "    </tr>\n",
       "    <tr>\n",
       "      <th>0</th>\n",
       "      <td>Human fertilization - wikipedia &lt;H1&gt; Human fer...</td>\n",
       "      <td>[o tipo de fertilização ocorre nos seres humanos]</td>\n",
       "      <td>[ O processo de fertilização envolve a fusão d...</td>\n",
       "    </tr>\n",
       "    <tr>\n",
       "      <th>0</th>\n",
       "      <td>List of National Football League career quarte...</td>\n",
       "      <td>[que obteve a maioria dos vencedores no nfl]</td>\n",
       "      <td>[ Active quarterback Tom Brady detém os regist...</td>\n",
       "    </tr>\n",
       "    <tr>\n",
       "      <th>0</th>\n",
       "      <td>Roanoke Colony - wikipedia &lt;H1&gt; Roanoke Colony...</td>\n",
       "      <td>[o que aconteceu com o assentamento perdido de...</td>\n",
       "      <td>[án]</td>\n",
       "    </tr>\n",
       "    <tr>\n",
       "      <th>0</th>\n",
       "      <td>List of regions of Africa - wikipedia &lt;H1&gt; Lis...</td>\n",
       "      <td>[quais as diferentes regiões da áfrica e como ...</td>\n",
       "      <td>[án]</td>\n",
       "    </tr>\n",
       "    <tr>\n",
       "      <th>0</th>\n",
       "      <td>Pom Klementieff - wikipedia &lt;H1&gt; Pom Klementie...</td>\n",
       "      <td>[que jogava mantis guardiãs da galáxia 2]</td>\n",
       "      <td>[ Pom Klementieff (nascido em 3 de Maio de 1986)]</td>\n",
       "    </tr>\n",
       "    <tr>\n",
       "      <th>0</th>\n",
       "      <td>Frosty the Snowman ( film ) - wikipedia &lt;H1&gt; F...</td>\n",
       "      <td>[que fez a voz do médico em gelo o homem de neve]</td>\n",
       "      <td>[án]</td>\n",
       "    </tr>\n",
       "    <tr>\n",
       "      <th>0</th>\n",
       "      <td>History of the Acadians - wikipedia &lt;H1&gt; Histo...</td>\n",
       "      <td>[o que a tribo indígena fez com que os acadian...</td>\n",
       "      <td>[ A sobrevivência dos assentamentos acadianos ...</td>\n",
       "    </tr>\n",
       "    <tr>\n",
       "      <th>0</th>\n",
       "      <td>Outer Banks - wikipedia &lt;H1&gt; Outer Banks &lt;/H1&gt;...</td>\n",
       "      <td>[o que se considera os bancos externos da caró...</td>\n",
       "      <td>[án]</td>\n",
       "    </tr>\n",
       "    <tr>\n",
       "      <th>0</th>\n",
       "      <td>Deputy chief Minister of Jammu and Kashmir - W...</td>\n",
       "      <td>[que é o adjunto cm de j e k]</td>\n",
       "      <td>[ ]</td>\n",
       "    </tr>\n",
       "    <tr>\n",
       "      <th>0</th>\n",
       "      <td>Bangko Sentral ng Pilipinas - wikipedia &lt;H1&gt; B...</td>\n",
       "      <td>[bangko sentral ng pilipinas (banco central da...</td>\n",
       "      <td>[án]</td>\n",
       "    </tr>\n",
       "    <tr>\n",
       "      <th>0</th>\n",
       "      <td>Takt time - wikipedia &lt;H1&gt; Takt time &lt;/H1&gt; Jum...</td>\n",
       "      <td>[tempo real de início a fim de produzir uma un...</td>\n",
       "      <td>[án]</td>\n",
       "    </tr>\n",
       "    <tr>\n",
       "      <th>0</th>\n",
       "      <td>I Had trouble in Getting to Solla Sollew - wik...</td>\n",
       "      <td>[eu tive dificuldade em conseguir solla sellew]</td>\n",
       "      <td>[án]</td>\n",
       "    </tr>\n",
       "    <tr>\n",
       "      <th>0</th>\n",
       "      <td>Shape of You - wikipedia &lt;H1&gt; Shape of You &lt;/H...</td>\n",
       "      <td>[ic ed sheeran i' m em amor com o seu corpo]</td>\n",
       "      <td>[án]</td>\n",
       "    </tr>\n",
       "  </tbody>\n",
       "</table>\n",
       "</div>"
      ],
      "text/plain": [
       "                                               title  \\\n",
       "0  Email marketing - Wikipedia <H1> Email marketi...   \n",
       "0  The Mother ( How I Met Your Mother ) - wikiped...   \n",
       "0  Human fertilization - wikipedia <H1> Human fer...   \n",
       "0  List of National Football League career quarte...   \n",
       "0  Roanoke Colony - wikipedia <H1> Roanoke Colony...   \n",
       "0  List of regions of Africa - wikipedia <H1> Lis...   \n",
       "0  Pom Klementieff - wikipedia <H1> Pom Klementie...   \n",
       "0  Frosty the Snowman ( film ) - wikipedia <H1> F...   \n",
       "0  History of the Acadians - wikipedia <H1> Histo...   \n",
       "0  Outer Banks - wikipedia <H1> Outer Banks </H1>...   \n",
       "0  Deputy chief Minister of Jammu and Kashmir - W...   \n",
       "0  Bangko Sentral ng Pilipinas - wikipedia <H1> B...   \n",
       "0  Takt time - wikipedia <H1> Takt time </H1> Jum...   \n",
       "0  I Had trouble in Getting to Solla Sollew - wik...   \n",
       "0  Shape of You - wikipedia <H1> Shape of You </H...   \n",
       "\n",
       "                                            pergunta  \\\n",
       "0  [que é a utilização mais comum do marketing op...   \n",
       "0                [como eu conheci a mãe que é a mãe]   \n",
       "0  [o tipo de fertilização ocorre nos seres humanos]   \n",
       "0       [que obteve a maioria dos vencedores no nfl]   \n",
       "0  [o que aconteceu com o assentamento perdido de...   \n",
       "0  [quais as diferentes regiões da áfrica e como ...   \n",
       "0          [que jogava mantis guardiãs da galáxia 2]   \n",
       "0  [que fez a voz do médico em gelo o homem de neve]   \n",
       "0  [o que a tribo indígena fez com que os acadian...   \n",
       "0  [o que se considera os bancos externos da caró...   \n",
       "0                      [que é o adjunto cm de j e k]   \n",
       "0  [bangko sentral ng pilipinas (banco central da...   \n",
       "0  [tempo real de início a fim de produzir uma un...   \n",
       "0    [eu tive dificuldade em conseguir solla sellew]   \n",
       "0       [ic ed sheeran i' m em amor com o seu corpo]   \n",
       "\n",
       "                                              answer  \n",
       "0  [ Um exemplo comum de marketing de licença é u...  \n",
       "0   [ Tracy McConnell , mais conhecido como ``A mãe]  \n",
       "0  [ O processo de fertilização envolve a fusão d...  \n",
       "0  [ Active quarterback Tom Brady detém os regist...  \n",
       "0                                               [án]  \n",
       "0                                               [án]  \n",
       "0  [ Pom Klementieff (nascido em 3 de Maio de 1986)]  \n",
       "0                                               [án]  \n",
       "0  [ A sobrevivência dos assentamentos acadianos ...  \n",
       "0                                               [án]  \n",
       "0                                                [ ]  \n",
       "0                                               [án]  \n",
       "0                                               [án]  \n",
       "0                                               [án]  \n",
       "0                                               [án]  "
      ]
     },
     "execution_count": 86,
     "metadata": {},
     "output_type": "execute_result"
    }
   ],
   "source": [
    "for i in range(15):\n",
    "    doc = small_set[i]['document_text']\n",
    "    init = small_set[i]['annotations'][0]['long_answer']['start_token']\n",
    "    end = small_set[i]['annotations'][0]['long_answer']['end_token']\n",
    "    question = small_set[i]['question_text']\n",
    "    \n",
    "    # Extraindo a resposta\n",
    "    answer = \" \".join(doc.split(\" \")[init:end])\n",
    "    #answer = enpt_pipeline('translate English to Portuguese: ' + answer)\n",
    "    answer = extrair_texto_da_lista(answer)\n",
    "    answer = clean_html_tags(answer)\n",
    "    \n",
    "    # Processando a pergunta\n",
    "    #question = enpt_pipeline('translate English to Portuguese: ' + question)\n",
    "    question = extrair_texto_da_lista(question)\n",
    "    question = clean_html_tags(question)\n",
    "    \n",
    "    new_row = {'title': [doc], 'pergunta': [question], 'answer': [answer]}\n",
    "    df_aux = pd.DataFrame(new_row)\n",
    "    df = pd.concat([df, df_aux])\n",
    "df\n"
   ]
  },
  {
   "cell_type": "code",
   "execution_count": null,
   "id": "57f2c9c8-833f-4466-8507-f261ee3c065e",
   "metadata": {},
   "outputs": [],
   "source": []
  },
  {
   "cell_type": "code",
   "execution_count": null,
   "id": "02e7f222-47ed-458d-aa37-d7358a82b944",
   "metadata": {},
   "outputs": [],
   "source": []
  }
 ],
 "metadata": {
  "kernelspec": {
   "display_name": "Python 3 (ipykernel)",
   "language": "python",
   "name": "python3"
  },
  "language_info": {
   "codemirror_mode": {
    "name": "ipython",
    "version": 3
   },
   "file_extension": ".py",
   "mimetype": "text/x-python",
   "name": "python",
   "nbconvert_exporter": "python",
   "pygments_lexer": "ipython3",
   "version": "3.10.12"
  }
 },
 "nbformat": 4,
 "nbformat_minor": 5
}
