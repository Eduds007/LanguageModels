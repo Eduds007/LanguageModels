{
 "cells": [
  {
   "cell_type": "code",
   "execution_count": 1,
   "id": "bdd1602a-7a9b-4265-a60c-f6205a6db760",
   "metadata": {},
   "outputs": [
    {
     "name": "stderr",
     "output_type": "stream",
     "text": [
      "/home/eduardo/.local/lib/python3.10/site-packages/tqdm/auto.py:21: TqdmWarning: IProgress not found. Please update jupyter and ipywidgets. See https://ipywidgets.readthedocs.io/en/stable/user_install.html\n",
      "  from .autonotebook import tqdm as notebook_tqdm\n"
     ]
    }
   ],
   "source": [
    "import datasets \n",
    "\n",
    "from datasets import load_dataset\n",
    "\n",
    "datasets = load_dataset('json',data_files='simplified-nq-train.jsonl')"
   ]
  },
  {
   "cell_type": "code",
   "execution_count": 2,
   "id": "1e9dc376-2883-4cd4-8c04-4360be971f6c",
   "metadata": {},
   "outputs": [
    {
     "name": "stdout",
     "output_type": "stream",
     "text": [
      "DatasetDict({\n",
      "    train: Dataset({\n",
      "        features: ['document_text', 'long_answer_candidates', 'question_text', 'annotations', 'document_url', 'example_id'],\n",
      "        num_rows: 307373\n",
      "    })\n",
      "})\n"
     ]
    }
   ],
   "source": [
    "print(datasets)\n"
   ]
  },
  {
   "cell_type": "code",
   "execution_count": 3,
   "id": "756f527a-2ddd-4ec7-9c6b-1149dee70655",
   "metadata": {},
   "outputs": [
    {
     "name": "stdout",
     "output_type": "stream",
     "text": [
      "Defaulting to user installation because normal site-packages is not writeable\n",
      "Requirement already satisfied: transformers in /home/eduardo/.local/lib/python3.10/site-packages (4.32.1)\n",
      "Requirement already satisfied: tensorRT in /home/eduardo/.local/lib/python3.10/site-packages (8.6.1.post1)\n",
      "Requirement already satisfied: filelock in /home/eduardo/.local/lib/python3.10/site-packages (from transformers) (3.12.2)\n",
      "Requirement already satisfied: huggingface-hub<1.0,>=0.15.1 in /home/eduardo/.local/lib/python3.10/site-packages (from transformers) (0.17.2)\n",
      "Requirement already satisfied: numpy>=1.17 in /home/eduardo/.local/lib/python3.10/site-packages (from transformers) (1.24.3)\n",
      "Requirement already satisfied: packaging>=20.0 in /home/eduardo/.local/lib/python3.10/site-packages (from transformers) (23.1)\n",
      "Requirement already satisfied: pyyaml>=5.1 in /home/eduardo/.local/lib/python3.10/site-packages (from transformers) (6.0.1)\n",
      "Requirement already satisfied: regex!=2019.12.17 in /home/eduardo/.local/lib/python3.10/site-packages (from transformers) (2023.8.8)\n",
      "Requirement already satisfied: requests in /home/eduardo/.local/lib/python3.10/site-packages (from transformers) (2.31.0)\n",
      "Requirement already satisfied: tokenizers!=0.11.3,<0.14,>=0.11.1 in /home/eduardo/.local/lib/python3.10/site-packages (from transformers) (0.13.3)\n",
      "Requirement already satisfied: safetensors>=0.3.1 in /home/eduardo/.local/lib/python3.10/site-packages (from transformers) (0.3.3)\n",
      "Requirement already satisfied: tqdm>=4.27 in /home/eduardo/.local/lib/python3.10/site-packages (from transformers) (4.65.0)\n",
      "Requirement already satisfied: fsspec in /home/eduardo/.local/lib/python3.10/site-packages (from huggingface-hub<1.0,>=0.15.1->transformers) (2023.9.2)\n",
      "Requirement already satisfied: typing-extensions>=3.7.4.3 in /home/eduardo/.local/lib/python3.10/site-packages (from huggingface-hub<1.0,>=0.15.1->transformers) (4.5.0)\n",
      "Requirement already satisfied: charset-normalizer<4,>=2 in /home/eduardo/.local/lib/python3.10/site-packages (from requests->transformers) (3.1.0)\n",
      "Requirement already satisfied: idna<4,>=2.5 in /home/eduardo/.local/lib/python3.10/site-packages (from requests->transformers) (3.4)\n",
      "Requirement already satisfied: urllib3<3,>=1.21.1 in /home/eduardo/.local/lib/python3.10/site-packages (from requests->transformers) (1.26.16)\n",
      "Requirement already satisfied: certifi>=2017.4.17 in /home/eduardo/.local/lib/python3.10/site-packages (from requests->transformers) (2023.5.7)\n",
      "\n",
      "\u001b[1m[\u001b[0m\u001b[34;49mnotice\u001b[0m\u001b[1;39;49m]\u001b[0m\u001b[39;49m A new release of pip is available: \u001b[0m\u001b[31;49m23.2.1\u001b[0m\u001b[39;49m -> \u001b[0m\u001b[32;49m23.3.1\u001b[0m\n",
      "\u001b[1m[\u001b[0m\u001b[34;49mnotice\u001b[0m\u001b[1;39;49m]\u001b[0m\u001b[39;49m To update, run: \u001b[0m\u001b[32;49mpython3 -m pip install --upgrade pip\u001b[0m\n",
      "Note: you may need to restart the kernel to use updated packages.\n"
     ]
    }
   ],
   "source": [
    "pip install transformers tensorRT"
   ]
  },
  {
   "cell_type": "code",
   "execution_count": 4,
   "id": "bb46c289-8b6b-4020-80aa-eda4c3622119",
   "metadata": {},
   "outputs": [
    {
     "name": "stderr",
     "output_type": "stream",
     "text": [
      "2023-10-28 19:58:05.386937: I tensorflow/core/util/port.cc:110] oneDNN custom operations are on. You may see slightly different numerical results due to floating-point round-off errors from different computation orders. To turn them off, set the environment variable `TF_ENABLE_ONEDNN_OPTS=0`.\n",
      "2023-10-28 19:58:05.605520: I tensorflow/core/platform/cpu_feature_guard.cc:182] This TensorFlow binary is optimized to use available CPU instructions in performance-critical operations.\n",
      "To enable the following instructions: AVX2 AVX512F AVX512_VNNI FMA, in other operations, rebuild TensorFlow with the appropriate compiler flags.\n",
      "2023-10-28 19:58:06.375646: W tensorflow/compiler/tf2tensorrt/utils/py_utils.cc:38] TF-TRT Warning: Could not find TensorRT\n"
     ]
    }
   ],
   "source": [
    "from transformers import AutoTokenizer, AutoModelForSeq2SeqLM, pipeline"
   ]
  },
  {
   "cell_type": "code",
   "execution_count": 6,
   "id": "89e41b88-57d9-400c-9ed6-832e4ec98ee0",
   "metadata": {},
   "outputs": [
    {
     "name": "stdout",
     "output_type": "stream",
     "text": [
      "Defaulting to user installation because normal site-packages is not writeable\n",
      "Collecting sacremoses\n",
      "  Downloading sacremoses-0.0.53.tar.gz (880 kB)\n",
      "\u001b[2K     \u001b[38;2;114;156;31m━━━━━━━━━━━━━━━━━━━━━━━━━━━━━━━━━━━━━━━\u001b[0m \u001b[32m880.6/880.6 kB\u001b[0m \u001b[31m5.6 MB/s\u001b[0m eta \u001b[36m0:00:00\u001b[0mm eta \u001b[36m0:00:01\u001b[0m0:01\u001b[0m:01\u001b[0m\n",
      "\u001b[?25h  Preparing metadata (setup.py) ... \u001b[?25ldone\n",
      "\u001b[?25hRequirement already satisfied: regex in /home/eduardo/.local/lib/python3.10/site-packages (from sacremoses) (2023.8.8)\n",
      "Requirement already satisfied: six in /usr/lib/python3/dist-packages (from sacremoses) (1.16.0)\n",
      "Requirement already satisfied: click in /home/eduardo/.local/lib/python3.10/site-packages (from sacremoses) (8.1.6)\n",
      "Requirement already satisfied: joblib in /home/eduardo/.local/lib/python3.10/site-packages (from sacremoses) (1.3.1)\n",
      "Requirement already satisfied: tqdm in /home/eduardo/.local/lib/python3.10/site-packages (from sacremoses) (4.65.0)\n",
      "Building wheels for collected packages: sacremoses\n",
      "  Building wheel for sacremoses (setup.py) ... \u001b[?25ldone\n",
      "\u001b[?25h  Created wheel for sacremoses: filename=sacremoses-0.0.53-py3-none-any.whl size=895241 sha256=975da7d8c58b2130dd0f3a287a0ffac648225bcc2f7f1a011633b5d234abdde9\n",
      "  Stored in directory: /home/eduardo/.cache/pip/wheels/00/24/97/a2ea5324f36bc626e1ea0267f33db6aa80d157ee977e9e42fb\n",
      "Successfully built sacremoses\n",
      "Installing collected packages: sacremoses\n",
      "Successfully installed sacremoses-0.0.53\n",
      "\n",
      "\u001b[1m[\u001b[0m\u001b[34;49mnotice\u001b[0m\u001b[1;39;49m]\u001b[0m\u001b[39;49m A new release of pip is available: \u001b[0m\u001b[31;49m23.2.1\u001b[0m\u001b[39;49m -> \u001b[0m\u001b[32;49m23.3.1\u001b[0m\n",
      "\u001b[1m[\u001b[0m\u001b[34;49mnotice\u001b[0m\u001b[1;39;49m]\u001b[0m\u001b[39;49m To update, run: \u001b[0m\u001b[32;49mpython3 -m pip install --upgrade pip\u001b[0m\n",
      "Note: you may need to restart the kernel to use updated packages.\n"
     ]
    }
   ],
   "source": [
    "pip install sacremoses"
   ]
  },
  {
   "cell_type": "code",
   "execution_count": 15,
   "id": "13d1ea0c-808b-4898-ad9b-5ebcda4640f9",
   "metadata": {},
   "outputs": [],
   "source": [
    "from transformers import pipeline\n",
    "import pandas as pd\n",
    "pipe = pipeline(\"translation\", model=\"Helsinki-NLP/opus-mt-tc-big-en-pt\")"
   ]
  },
  {
   "cell_type": "code",
   "execution_count": 108,
   "id": "b5e10deb-1889-4264-8dfc-16daad7cd2cb",
   "metadata": {},
   "outputs": [],
   "source": [
    "\n",
    "from transformers import AutoTokenizer, AutoModelForSeq2SeqLM, pipeline\n",
    "  \n",
    "tokenizer = AutoTokenizer.from_pretrained(\"unicamp-dl/translation-en-pt-t5\")\n",
    "\n",
    "model = AutoModelForSeq2SeqLM.from_pretrained(\"unicamp-dl/translation-en-pt-t5\")\n",
    "\n",
    "enpt_pipeline = pipeline('text2text-generation', model=model, tokenizer=tokenizer)"
   ]
  },
  {
   "cell_type": "code",
   "execution_count": 110,
   "id": "8bb34561-ae39-4e1f-b855-ed9c8b7c76ee",
   "metadata": {},
   "outputs": [
    {
     "name": "stdout",
     "output_type": "stream",
     "text": [
      "[{'generated_text': 'Foi várias vezes a Hawaii'}]\n",
      "[{'translation_text': 'O Tom tentou esfaquear-me.'}]\n"
     ]
    }
   ],
   "source": [
    "print(enpt_pipeline(\"translate English to Portuguese: He has been to Hawaii several times\"))\n",
    "print(pipe(\">>por<< Tom tried to stab me.\"))\n"
   ]
  },
  {
   "cell_type": "code",
   "execution_count": 121,
   "id": "4ae7db33-1d5a-4820-8130-12ae0d12da63",
   "metadata": {},
   "outputs": [
    {
     "data": {
      "text/plain": [
       "['Foi várias vezes a Hawaii']"
      ]
     },
     "execution_count": 121,
     "metadata": {},
     "output_type": "execute_result"
    }
   ],
   "source": [
    "def extrair_texto_da_lista(lista):\n",
    "    if isinstance(lista, list):\n",
    "        textos = []\n",
    "        for elemento in lista:\n",
    "            texto = elemento.get('generated_text', '')\n",
    "            textos.append(texto)\n",
    "        return textos\n",
    "    return None\n",
    "\n",
    "\n",
    "extrair_texto_da_lista(enpt_pipeline(\"translate English to Portuguese: He has been to Hawaii several times\"))"
   ]
  },
  {
   "cell_type": "code",
   "execution_count": 117,
   "id": "c742228b-5df7-42da-9ff4-2e5e6c9e2b13",
   "metadata": {},
   "outputs": [],
   "source": [
    "sample = datasets['train'][1]"
   ]
  },
  {
   "cell_type": "code",
   "execution_count": 14,
   "id": "5522bb7c-fd1f-4a5d-a915-3a36f1045faa",
   "metadata": {},
   "outputs": [],
   "source": [
    "small_set = datasets['train']"
   ]
  },
  {
   "cell_type": "code",
   "execution_count": 124,
   "id": "b856be35-6bbf-4a21-87aa-617b0154429b",
   "metadata": {},
   "outputs": [],
   "source": [
    "df = pd.DataFrame(columns = ['title', 'pergunta', 'answer'])"
   ]
  },
  {
   "cell_type": "code",
   "execution_count": 125,
   "id": "398e568d-f4b8-4cc2-bdfe-0c9c40a42bce",
   "metadata": {},
   "outputs": [
    {
     "name": "stdout",
     "output_type": "stream",
     "text": [
      "[{'generated_text': '<P > Um exemplo comum de marketing de licença é uma notícia enviada a clientes de'}]\n",
      "['<P > Um exemplo comum de marketing de licença é uma notícia enviada a clientes de']\n"
     ]
    },
    {
     "data": {
      "text/html": [
       "<div>\n",
       "<style scoped>\n",
       "    .dataframe tbody tr th:only-of-type {\n",
       "        vertical-align: middle;\n",
       "    }\n",
       "\n",
       "    .dataframe tbody tr th {\n",
       "        vertical-align: top;\n",
       "    }\n",
       "\n",
       "    .dataframe thead th {\n",
       "        text-align: right;\n",
       "    }\n",
       "</style>\n",
       "<table border=\"1\" class=\"dataframe\">\n",
       "  <thead>\n",
       "    <tr style=\"text-align: right;\">\n",
       "      <th></th>\n",
       "      <th>title</th>\n",
       "      <th>pergunta</th>\n",
       "      <th>answer</th>\n",
       "    </tr>\n",
       "  </thead>\n",
       "  <tbody>\n",
       "    <tr>\n",
       "      <th>0</th>\n",
       "      <td>Email marketing - Wikipedia &lt;H1&gt; Email marketi...</td>\n",
       "      <td>which is the most common use of opt-in e-mail ...</td>\n",
       "      <td>[&lt;P &gt; Um exemplo comum de marketing de licença...</td>\n",
       "    </tr>\n",
       "  </tbody>\n",
       "</table>\n",
       "</div>"
      ],
      "text/plain": [
       "                                               title  \\\n",
       "0  Email marketing - Wikipedia <H1> Email marketi...   \n",
       "\n",
       "                                            pergunta  \\\n",
       "0  which is the most common use of opt-in e-mail ...   \n",
       "\n",
       "                                              answer  \n",
       "0  [<P > Um exemplo comum de marketing de licença...  "
      ]
     },
     "execution_count": 125,
     "metadata": {},
     "output_type": "execute_result"
    }
   ],
   "source": [
    "for i in range(1):\n",
    "    doc = small_set[i]['document_text']\n",
    "    init = small_set[i]['annotations'][0]['long_answer']['start_token']\n",
    "    end = small_set[i]['annotations'][0]['long_answer']['end_token']\n",
    "    question = small_set[i]['question_text']\n",
    "    answer = \" \".join(doc.split(\" \")[init:end])\n",
    "    answer= enpt_pipeline('translate English to Portuguese: ' + answer)\n",
    "    print(answer)\n",
    "    answer = extrair_texto_da_lista(answer)\n",
    "    print(answer)\n",
    "    #question = extrair_texto_da_lista(pipe('>>por<<' + question))\n",
    "    new_row = {'title': [doc], 'pergunta': [question], 'answer': [answer]}\n",
    "    df_aux = pd.DataFrame(new_row)\n",
    "    df = pd.concat([df, df_aux])\n",
    "df"
   ]
  },
  {
   "cell_type": "code",
   "execution_count": 100,
   "id": "57f2c9c8-833f-4466-8507-f261ee3c065e",
   "metadata": {},
   "outputs": [
    {
     "data": {
      "text/html": [
       "<div>\n",
       "<style scoped>\n",
       "    .dataframe tbody tr th:only-of-type {\n",
       "        vertical-align: middle;\n",
       "    }\n",
       "\n",
       "    .dataframe tbody tr th {\n",
       "        vertical-align: top;\n",
       "    }\n",
       "\n",
       "    .dataframe thead th {\n",
       "        text-align: right;\n",
       "    }\n",
       "</style>\n",
       "<table border=\"1\" class=\"dataframe\">\n",
       "  <thead>\n",
       "    <tr style=\"text-align: right;\">\n",
       "      <th></th>\n",
       "      <th>title</th>\n",
       "      <th>pergunta</th>\n",
       "      <th>answer</th>\n",
       "    </tr>\n",
       "  </thead>\n",
       "  <tbody>\n",
       "    <tr>\n",
       "      <th>0</th>\n",
       "      <td>Email marketing - Wikipedia &lt;H1&gt; Email marketi...</td>\n",
       "      <td>[{'translation_text': 'que é o uso mais comum ...</td>\n",
       "      <td>[ Um exemplo comum de marketing de permissão é...</td>\n",
       "    </tr>\n",
       "    <tr>\n",
       "      <th>0</th>\n",
       "      <td>The Mother ( How I Met Your Mother ) - wikiped...</td>\n",
       "      <td>[{'translation_text': 'como i.met sua mãe que ...</td>\n",
       "      <td>[&gt; Tracy McConnell , mais conhecido como  The ...</td>\n",
       "    </tr>\n",
       "    <tr>\n",
       "      <th>0</th>\n",
       "      <td>Human fertilization - wikipedia &lt;H1&gt; Human fer...</td>\n",
       "      <td>[{'translation_text': 'Que tipo de fertilizaçã...</td>\n",
       "      <td>[ O processo de fertilização envolve uma fusão...</td>\n",
       "    </tr>\n",
       "    <tr>\n",
       "      <th>0</th>\n",
       "      <td>List of National Football League career quarte...</td>\n",
       "      <td>[{'translation_text': 'quem teve mais vitórias...</td>\n",
       "      <td>[ O quarterback ativo Tom Brady detém os recor...</td>\n",
       "    </tr>\n",
       "    <tr>\n",
       "      <th>0</th>\n",
       "      <td>Roanoke Colony - wikipedia &lt;H1&gt; Roanoke Colony...</td>\n",
       "      <td>[{'translation_text': 'o que aconteceu com o a...</td>\n",
       "      <td>[]</td>\n",
       "    </tr>\n",
       "  </tbody>\n",
       "</table>\n",
       "</div>"
      ],
      "text/plain": [
       "                                               title  \\\n",
       "0  Email marketing - Wikipedia <H1> Email marketi...   \n",
       "0  The Mother ( How I Met Your Mother ) - wikiped...   \n",
       "0  Human fertilization - wikipedia <H1> Human fer...   \n",
       "0  List of National Football League career quarte...   \n",
       "0  Roanoke Colony - wikipedia <H1> Roanoke Colony...   \n",
       "\n",
       "                                            pergunta  \\\n",
       "0  [{'translation_text': 'que é o uso mais comum ...   \n",
       "0  [{'translation_text': 'como i.met sua mãe que ...   \n",
       "0  [{'translation_text': 'Que tipo de fertilizaçã...   \n",
       "0  [{'translation_text': 'quem teve mais vitórias...   \n",
       "0  [{'translation_text': 'o que aconteceu com o a...   \n",
       "\n",
       "                                              answer  \n",
       "0  [ Um exemplo comum de marketing de permissão é...  \n",
       "0  [> Tracy McConnell , mais conhecido como  The ...  \n",
       "0  [ O processo de fertilização envolve uma fusão...  \n",
       "0  [ O quarterback ativo Tom Brady detém os recor...  \n",
       "0                                                 []  "
      ]
     },
     "execution_count": 100,
     "metadata": {},
     "output_type": "execute_result"
    }
   ],
   "source": [
    "df"
   ]
  },
  {
   "cell_type": "code",
   "execution_count": null,
   "id": "02e7f222-47ed-458d-aa37-d7358a82b944",
   "metadata": {},
   "outputs": [],
   "source": []
  }
 ],
 "metadata": {
  "kernelspec": {
   "display_name": "Python 3 (ipykernel)",
   "language": "python",
   "name": "python3"
  },
  "language_info": {
   "codemirror_mode": {
    "name": "ipython",
    "version": 3
   },
   "file_extension": ".py",
   "mimetype": "text/x-python",
   "name": "python",
   "nbconvert_exporter": "python",
   "pygments_lexer": "ipython3",
   "version": "3.10.12"
  }
 },
 "nbformat": 4,
 "nbformat_minor": 5
}
